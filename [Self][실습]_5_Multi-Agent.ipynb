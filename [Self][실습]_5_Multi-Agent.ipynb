{
 "cells": [
  {
   "cell_type": "markdown",
   "metadata": {},
   "source": [
    "# Multi-Agent"
   ]
  },
  {
   "cell_type": "markdown",
   "metadata": {
    "id": "p2xf6YbpltIe"
   },
   "source": [
    "임성열 Ph.D. 2025. 02.05, SKALA 수업 학습목적으로만 활용 바랍니다.\n",
    "\n",
    "Reference: https://devocean.sk.com/blog/techBoardDetail.do?ID=166150&boardType=techBlog"
   ]
  },
  {
   "cell_type": "markdown",
   "metadata": {},
   "source": [
    "# 환경설정"
   ]
  },
  {
   "cell_type": "code",
   "execution_count": 2,
   "metadata": {
    "colab": {
     "base_uri": "https://localhost:8080/"
    },
    "collapsed": true,
    "executionInfo": {
     "elapsed": 75688,
     "status": "ok",
     "timestamp": 1733991041610,
     "user": {
      "displayName": "Sung Ryel Lim",
      "userId": "17832580391396757133"
     },
     "user_tz": -540
    },
    "id": "HJc141DwTkEr",
    "outputId": "16614bfa-3f27-4b30-ffd4-87f7ea56e7f8"
   },
   "outputs": [
    {
     "name": "stdout",
     "output_type": "stream",
     "text": [
      "Defaulting to user installation because normal site-packages is not writeable\n",
      "Requirement already satisfied: crewai==0.28.8 in /config/.local/lib/python3.10/site-packages (0.28.8)\n",
      "Requirement already satisfied: crewai_tools==0.1.6 in /config/.local/lib/python3.10/site-packages (0.1.6)\n",
      "Requirement already satisfied: langchain_community==0.0.29 in /config/.local/lib/python3.10/site-packages (0.0.29)\n",
      "Requirement already satisfied: opentelemetry-sdk<2.0.0,>=1.22.0 in /config/.local/lib/python3.10/site-packages (from crewai==0.28.8) (1.30.0)\n",
      "Requirement already satisfied: python-dotenv==1.0.0 in /config/.local/lib/python3.10/site-packages (from crewai==0.28.8) (1.0.0)\n",
      "Requirement already satisfied: instructor<0.6.0,>=0.5.2 in /config/.local/lib/python3.10/site-packages (from crewai==0.28.8) (0.5.2)\n",
      "Requirement already satisfied: regex<2024.0.0,>=2023.12.25 in /config/.local/lib/python3.10/site-packages (from crewai==0.28.8) (2023.12.25)\n",
      "Requirement already satisfied: opentelemetry-exporter-otlp-proto-http<2.0.0,>=1.22.0 in /config/.local/lib/python3.10/site-packages (from crewai==0.28.8) (1.30.0)\n",
      "Requirement already satisfied: langchain<0.2.0,>=0.1.10 in /config/.local/lib/python3.10/site-packages (from crewai==0.28.8) (0.1.13)\n",
      "Requirement already satisfied: embedchain<0.2.0,>=0.1.98 in /config/.local/lib/python3.10/site-packages (from crewai==0.28.8) (0.1.113)\n",
      "Requirement already satisfied: opentelemetry-api<2.0.0,>=1.22.0 in /config/.local/lib/python3.10/site-packages (from crewai==0.28.8) (1.30.0)\n",
      "Requirement already satisfied: pydantic<3.0.0,>=2.4.2 in /usr/local/lib/python3.10/dist-packages (from crewai==0.28.8) (2.10.6)\n",
      "Requirement already satisfied: openai<2.0.0,>=1.13.3 in /config/.local/lib/python3.10/site-packages (from crewai==0.28.8) (1.55.3)\n",
      "Requirement already satisfied: appdirs<2.0.0,>=1.4.4 in /config/.local/lib/python3.10/site-packages (from crewai==0.28.8) (1.4.4)\n",
      "Requirement already satisfied: click<9.0.0,>=8.1.7 in /config/.local/lib/python3.10/site-packages (from crewai==0.28.8) (8.1.7)\n",
      "Requirement already satisfied: chromadb<0.5.0,>=0.4.22 in /config/.local/lib/python3.10/site-packages (from crewai_tools==0.1.6) (0.4.24)\n",
      "Requirement already satisfied: lancedb<0.6.0,>=0.5.4 in /config/.local/lib/python3.10/site-packages (from crewai_tools==0.1.6) (0.5.7)\n",
      "Requirement already satisfied: selenium<5.0.0,>=4.18.1 in /config/.local/lib/python3.10/site-packages (from crewai_tools==0.1.6) (4.28.1)\n",
      "Requirement already satisfied: pytest<9.0.0,>=8.0.0 in /config/.local/lib/python3.10/site-packages (from crewai_tools==0.1.6) (8.3.4)\n",
      "Requirement already satisfied: beautifulsoup4<5.0.0,>=4.12.3 in /config/.local/lib/python3.10/site-packages (from crewai_tools==0.1.6) (4.13.1)\n",
      "Requirement already satisfied: pyright<2.0.0,>=1.1.350 in /config/.local/lib/python3.10/site-packages (from crewai_tools==0.1.6) (1.1.393)\n",
      "Requirement already satisfied: pytube<16.0.0,>=15.0.0 in /config/.local/lib/python3.10/site-packages (from crewai_tools==0.1.6) (15.0.0)\n",
      "Requirement already satisfied: requests<3.0.0,>=2.31.0 in /usr/local/lib/python3.10/dist-packages (from crewai_tools==0.1.6) (2.32.3)\n",
      "Requirement already satisfied: SQLAlchemy<3,>=1.4 in /usr/local/lib/python3.10/dist-packages (from langchain_community==0.0.29) (2.0.37)\n",
      "Requirement already satisfied: numpy<2,>=1 in /config/.local/lib/python3.10/site-packages (from langchain_community==0.0.29) (1.26.4)\n",
      "Requirement already satisfied: langchain-core<0.2.0,>=0.1.33 in /config/.local/lib/python3.10/site-packages (from langchain_community==0.0.29) (0.1.53)\n",
      "Requirement already satisfied: PyYAML>=5.3 in /usr/local/lib/python3.10/dist-packages (from langchain_community==0.0.29) (6.0.2)\n",
      "Requirement already satisfied: dataclasses-json<0.7,>=0.5.7 in /config/.local/lib/python3.10/site-packages (from langchain_community==0.0.29) (0.6.7)\n",
      "Requirement already satisfied: aiohttp<4.0.0,>=3.8.3 in /usr/local/lib/python3.10/dist-packages (from langchain_community==0.0.29) (3.11.11)\n",
      "Requirement already satisfied: tenacity<9.0.0,>=8.1.0 in /config/.local/lib/python3.10/site-packages (from langchain_community==0.0.29) (8.5.0)\n",
      "Requirement already satisfied: langsmith<0.2.0,>=0.1.0 in /config/.local/lib/python3.10/site-packages (from langchain_community==0.0.29) (0.1.147)\n",
      "Requirement already satisfied: propcache>=0.2.0 in /usr/local/lib/python3.10/dist-packages (from aiohttp<4.0.0,>=3.8.3->langchain_community==0.0.29) (0.2.1)\n",
      "Requirement already satisfied: multidict<7.0,>=4.5 in /usr/local/lib/python3.10/dist-packages (from aiohttp<4.0.0,>=3.8.3->langchain_community==0.0.29) (6.1.0)\n",
      "Requirement already satisfied: frozenlist>=1.1.1 in /usr/local/lib/python3.10/dist-packages (from aiohttp<4.0.0,>=3.8.3->langchain_community==0.0.29) (1.5.0)\n",
      "Requirement already satisfied: yarl<2.0,>=1.17.0 in /usr/local/lib/python3.10/dist-packages (from aiohttp<4.0.0,>=3.8.3->langchain_community==0.0.29) (1.18.3)\n",
      "Requirement already satisfied: aiohappyeyeballs>=2.3.0 in /usr/local/lib/python3.10/dist-packages (from aiohttp<4.0.0,>=3.8.3->langchain_community==0.0.29) (2.4.4)\n",
      "Requirement already satisfied: async-timeout<6.0,>=4.0 in /usr/local/lib/python3.10/dist-packages (from aiohttp<4.0.0,>=3.8.3->langchain_community==0.0.29) (4.0.3)\n",
      "Requirement already satisfied: attrs>=17.3.0 in /usr/local/lib/python3.10/dist-packages (from aiohttp<4.0.0,>=3.8.3->langchain_community==0.0.29) (25.1.0)\n",
      "Requirement already satisfied: aiosignal>=1.1.2 in /usr/local/lib/python3.10/dist-packages (from aiohttp<4.0.0,>=3.8.3->langchain_community==0.0.29) (1.3.2)\n",
      "Requirement already satisfied: typing-extensions>=4.0.0 in /usr/local/lib/python3.10/dist-packages (from beautifulsoup4<5.0.0,>=4.12.3->crewai_tools==0.1.6) (4.12.2)\n",
      "Requirement already satisfied: soupsieve>1.2 in /config/.local/lib/python3.10/site-packages (from beautifulsoup4<5.0.0,>=4.12.3->crewai_tools==0.1.6) (2.6)\n",
      "Requirement already satisfied: opentelemetry-exporter-otlp-proto-grpc>=1.2.0 in /config/.local/lib/python3.10/site-packages (from chromadb<0.5.0,>=0.4.22->crewai_tools==0.1.6) (1.30.0)\n",
      "Requirement already satisfied: grpcio>=1.58.0 in /config/.local/lib/python3.10/site-packages (from chromadb<0.5.0,>=0.4.22->crewai_tools==0.1.6) (1.70.0)\n",
      "Requirement already satisfied: chroma-hnswlib==0.7.3 in /config/.local/lib/python3.10/site-packages (from chromadb<0.5.0,>=0.4.22->crewai_tools==0.1.6) (0.7.3)\n",
      "Requirement already satisfied: onnxruntime>=1.14.1 in /config/.local/lib/python3.10/site-packages (from chromadb<0.5.0,>=0.4.22->crewai_tools==0.1.6) (1.20.1)\n",
      "Requirement already satisfied: kubernetes>=28.1.0 in /config/.local/lib/python3.10/site-packages (from chromadb<0.5.0,>=0.4.22->crewai_tools==0.1.6) (32.0.0)\n",
      "Requirement already satisfied: uvicorn[standard]>=0.18.3 in /usr/local/lib/python3.10/dist-packages (from chromadb<0.5.0,>=0.4.22->crewai_tools==0.1.6) (0.34.0)\n",
      "Requirement already satisfied: bcrypt>=4.0.1 in /config/.local/lib/python3.10/site-packages (from chromadb<0.5.0,>=0.4.22->crewai_tools==0.1.6) (4.2.1)\n",
      "Requirement already satisfied: posthog>=2.4.0 in /config/.local/lib/python3.10/site-packages (from chromadb<0.5.0,>=0.4.22->crewai_tools==0.1.6) (3.11.0)\n",
      "Requirement already satisfied: fastapi>=0.95.2 in /usr/local/lib/python3.10/dist-packages (from chromadb<0.5.0,>=0.4.22->crewai_tools==0.1.6) (0.115.8)\n",
      "Requirement already satisfied: tokenizers>=0.13.2 in /usr/local/lib/python3.10/dist-packages (from chromadb<0.5.0,>=0.4.22->crewai_tools==0.1.6) (0.21.0)\n",
      "Requirement already satisfied: pulsar-client>=3.1.0 in /config/.local/lib/python3.10/site-packages (from chromadb<0.5.0,>=0.4.22->crewai_tools==0.1.6) (3.6.0)\n",
      "Requirement already satisfied: typer>=0.9.0 in /config/.local/lib/python3.10/site-packages (from chromadb<0.5.0,>=0.4.22->crewai_tools==0.1.6) (0.9.4)\n",
      "Requirement already satisfied: pypika>=0.48.9 in /config/.local/lib/python3.10/site-packages (from chromadb<0.5.0,>=0.4.22->crewai_tools==0.1.6) (0.48.9)\n",
      "Requirement already satisfied: overrides>=7.3.1 in /config/.local/lib/python3.10/site-packages (from chromadb<0.5.0,>=0.4.22->crewai_tools==0.1.6) (7.7.0)\n",
      "Requirement already satisfied: opentelemetry-instrumentation-fastapi>=0.41b0 in /config/.local/lib/python3.10/site-packages (from chromadb<0.5.0,>=0.4.22->crewai_tools==0.1.6) (0.51b0)\n",
      "Requirement already satisfied: orjson>=3.9.12 in /usr/local/lib/python3.10/dist-packages (from chromadb<0.5.0,>=0.4.22->crewai_tools==0.1.6) (3.10.15)\n",
      "Requirement already satisfied: build>=1.0.3 in /config/.local/lib/python3.10/site-packages (from chromadb<0.5.0,>=0.4.22->crewai_tools==0.1.6) (1.2.2.post1)\n",
      "Requirement already satisfied: importlib-resources in /config/.local/lib/python3.10/site-packages (from chromadb<0.5.0,>=0.4.22->crewai_tools==0.1.6) (6.5.2)\n",
      "Requirement already satisfied: mmh3>=4.0.1 in /config/.local/lib/python3.10/site-packages (from chromadb<0.5.0,>=0.4.22->crewai_tools==0.1.6) (5.1.0)\n",
      "Requirement already satisfied: tqdm>=4.65.0 in /usr/local/lib/python3.10/dist-packages (from chromadb<0.5.0,>=0.4.22->crewai_tools==0.1.6) (4.67.1)\n",
      "Requirement already satisfied: marshmallow<4.0.0,>=3.18.0 in /config/.local/lib/python3.10/site-packages (from dataclasses-json<0.7,>=0.5.7->langchain_community==0.0.29) (3.26.1)\n",
      "Requirement already satisfied: typing-inspect<1,>=0.4.0 in /config/.local/lib/python3.10/site-packages (from dataclasses-json<0.7,>=0.5.7->langchain_community==0.0.29) (0.9.0)\n",
      "Requirement already satisfied: langchain-openai<0.2.0,>=0.1.7 in /config/.local/lib/python3.10/site-packages (from embedchain<0.2.0,>=0.1.98->crewai==0.28.8) (0.1.7)\n",
      "Requirement already satisfied: alembic<2.0.0,>=1.13.1 in /config/.local/lib/python3.10/site-packages (from embedchain<0.2.0,>=0.1.98->crewai==0.28.8) (1.14.1)\n",
      "Requirement already satisfied: langchain-cohere<0.2.0,>=0.1.4 in /config/.local/lib/python3.10/site-packages (from embedchain<0.2.0,>=0.1.98->crewai==0.28.8) (0.1.5)\n",
      "Requirement already satisfied: rich<14.0.0,>=13.7.0 in /usr/local/lib/python3.10/dist-packages (from embedchain<0.2.0,>=0.1.98->crewai==0.28.8) (13.9.4)\n",
      "Requirement already satisfied: gptcache<0.2.0,>=0.1.43 in /config/.local/lib/python3.10/site-packages (from embedchain<0.2.0,>=0.1.98->crewai==0.28.8) (0.1.44)\n",
      "Requirement already satisfied: tiktoken<0.8.0,>=0.7.0 in /config/.local/lib/python3.10/site-packages (from embedchain<0.2.0,>=0.1.98->crewai==0.28.8) (0.7.0)\n",
      "Requirement already satisfied: pypdf<5.0.0,>=4.0.1 in /config/.local/lib/python3.10/site-packages (from embedchain<0.2.0,>=0.1.98->crewai==0.28.8) (4.3.1)\n",
      "Requirement already satisfied: schema<0.8.0,>=0.7.5 in /config/.local/lib/python3.10/site-packages (from embedchain<0.2.0,>=0.1.98->crewai==0.28.8) (0.7.5)\n",
      "Requirement already satisfied: clarifai<11.0.0,>=10.0.1 in /config/.local/lib/python3.10/site-packages (from embedchain<0.2.0,>=0.1.98->crewai==0.28.8) (10.11.1)\n",
      "Requirement already satisfied: pysbd<0.4.0,>=0.3.4 in /config/.local/lib/python3.10/site-packages (from embedchain<0.2.0,>=0.1.98->crewai==0.28.8) (0.3.4)\n",
      "Requirement already satisfied: google-cloud-aiplatform<2.0.0,>=1.26.1 in /config/.local/lib/python3.10/site-packages (from embedchain<0.2.0,>=0.1.98->crewai==0.28.8) (1.79.0)\n",
      "Requirement already satisfied: gitpython<4.0.0,>=3.1.38 in /usr/local/lib/python3.10/dist-packages (from embedchain<0.2.0,>=0.1.98->crewai==0.28.8) (3.1.44)\n",
      "Requirement already satisfied: PyGithub<2.0.0,>=1.59.1 in /config/.local/lib/python3.10/site-packages (from embedchain<0.2.0,>=0.1.98->crewai==0.28.8) (1.59.1)\n",
      "Requirement already satisfied: yt_dlp<2024.0.0,>=2023.11.14 in /config/.local/lib/python3.10/site-packages (from embedchain<0.2.0,>=0.1.98->crewai==0.28.8) (2023.12.30)\n",
      "Requirement already satisfied: youtube-transcript-api<0.7.0,>=0.6.1 in /config/.local/lib/python3.10/site-packages (from embedchain<0.2.0,>=0.1.98->crewai==0.28.8) (0.6.3)\n",
      "Requirement already satisfied: docstring-parser<0.16,>=0.15 in /config/.local/lib/python3.10/site-packages (from instructor<0.6.0,>=0.5.2->crewai==0.28.8) (0.15)\n",
      "Requirement already satisfied: cachetools in /usr/local/lib/python3.10/dist-packages (from lancedb<0.6.0,>=0.5.4->crewai_tools==0.1.6) (5.5.1)\n",
      "Requirement already satisfied: deprecation in /config/.local/lib/python3.10/site-packages (from lancedb<0.6.0,>=0.5.4->crewai_tools==0.1.6) (2.1.0)\n",
      "Requirement already satisfied: pylance==0.9.18 in /config/.local/lib/python3.10/site-packages (from lancedb<0.6.0,>=0.5.4->crewai_tools==0.1.6) (0.9.18)\n",
      "Requirement already satisfied: ratelimiter~=1.0 in /config/.local/lib/python3.10/site-packages (from lancedb<0.6.0,>=0.5.4->crewai_tools==0.1.6) (1.2.0.post0)\n",
      "Requirement already satisfied: semver>=3.0 in /config/.local/lib/python3.10/site-packages (from lancedb<0.6.0,>=0.5.4->crewai_tools==0.1.6) (3.0.4)\n",
      "Requirement already satisfied: retry>=0.9.2 in /config/.local/lib/python3.10/site-packages (from lancedb<0.6.0,>=0.5.4->crewai_tools==0.1.6) (0.9.2)\n",
      "Requirement already satisfied: pyarrow>=12 in /usr/local/lib/python3.10/dist-packages (from pylance==0.9.18->lancedb<0.6.0,>=0.5.4->crewai_tools==0.1.6) (19.0.0)\n",
      "Requirement already satisfied: langchain-text-splitters<0.1,>=0.0.1 in /config/.local/lib/python3.10/site-packages (from langchain<0.2.0,>=0.1.10->crewai==0.28.8) (0.0.2)\n",
      "Requirement already satisfied: jsonpatch<2.0,>=1.33 in /usr/local/lib/python3.10/dist-packages (from langchain<0.2.0,>=0.1.10->crewai==0.28.8) (1.33)\n",
      "Requirement already satisfied: packaging<24.0,>=23.2 in /config/.local/lib/python3.10/site-packages (from langchain-core<0.2.0,>=0.1.33->langchain_community==0.0.29) (23.2)\n",
      "Requirement already satisfied: requests-toolbelt<2.0.0,>=1.0.0 in /usr/local/lib/python3.10/dist-packages (from langsmith<0.2.0,>=0.1.0->langchain_community==0.0.29) (1.0.0)\n",
      "Requirement already satisfied: httpx<1,>=0.23.0 in /config/.local/lib/python3.10/site-packages (from langsmith<0.2.0,>=0.1.0->langchain_community==0.0.29) (0.27.2)\n",
      "Requirement already satisfied: anyio<5,>=3.5.0 in /usr/local/lib/python3.10/dist-packages (from openai<2.0.0,>=1.13.3->crewai==0.28.8) (4.8.0)\n",
      "Requirement already satisfied: distro<2,>=1.7.0 in /usr/local/lib/python3.10/dist-packages (from openai<2.0.0,>=1.13.3->crewai==0.28.8) (1.9.0)\n",
      "Requirement already satisfied: sniffio in /usr/local/lib/python3.10/dist-packages (from openai<2.0.0,>=1.13.3->crewai==0.28.8) (1.3.1)\n",
      "Requirement already satisfied: jiter<1,>=0.4.0 in /usr/local/lib/python3.10/dist-packages (from openai<2.0.0,>=1.13.3->crewai==0.28.8) (0.8.2)\n",
      "Requirement already satisfied: deprecated>=1.2.6 in /config/.local/lib/python3.10/site-packages (from opentelemetry-api<2.0.0,>=1.22.0->crewai==0.28.8) (1.2.18)\n",
      "Requirement already satisfied: importlib-metadata<=8.5.0,>=6.0 in /config/.local/lib/python3.10/site-packages (from opentelemetry-api<2.0.0,>=1.22.0->crewai==0.28.8) (8.5.0)\n",
      "Requirement already satisfied: opentelemetry-proto==1.30.0 in /config/.local/lib/python3.10/site-packages (from opentelemetry-exporter-otlp-proto-http<2.0.0,>=1.22.0->crewai==0.28.8) (1.30.0)\n",
      "Requirement already satisfied: googleapis-common-protos~=1.52 in /config/.local/lib/python3.10/site-packages (from opentelemetry-exporter-otlp-proto-http<2.0.0,>=1.22.0->crewai==0.28.8) (1.66.0)\n",
      "Requirement already satisfied: opentelemetry-exporter-otlp-proto-common==1.30.0 in /config/.local/lib/python3.10/site-packages (from opentelemetry-exporter-otlp-proto-http<2.0.0,>=1.22.0->crewai==0.28.8) (1.30.0)\n",
      "Requirement already satisfied: protobuf<6.0,>=5.0 in /usr/local/lib/python3.10/dist-packages (from opentelemetry-proto==1.30.0->opentelemetry-exporter-otlp-proto-http<2.0.0,>=1.22.0->crewai==0.28.8) (5.29.3)\n",
      "Requirement already satisfied: opentelemetry-semantic-conventions==0.51b0 in /config/.local/lib/python3.10/site-packages (from opentelemetry-sdk<2.0.0,>=1.22.0->crewai==0.28.8) (0.51b0)\n",
      "Requirement already satisfied: annotated-types>=0.6.0 in /usr/local/lib/python3.10/dist-packages (from pydantic<3.0.0,>=2.4.2->crewai==0.28.8) (0.7.0)\n",
      "Requirement already satisfied: pydantic-core==2.27.2 in /usr/local/lib/python3.10/dist-packages (from pydantic<3.0.0,>=2.4.2->crewai==0.28.8) (2.27.2)\n",
      "Requirement already satisfied: nodeenv>=1.6.0 in /config/.local/lib/python3.10/site-packages (from pyright<2.0.0,>=1.1.350->crewai_tools==0.1.6) (1.9.1)\n",
      "Requirement already satisfied: tomli>=1 in /config/.local/lib/python3.10/site-packages (from pytest<9.0.0,>=8.0.0->crewai_tools==0.1.6) (2.2.1)\n",
      "Requirement already satisfied: iniconfig in /config/.local/lib/python3.10/site-packages (from pytest<9.0.0,>=8.0.0->crewai_tools==0.1.6) (2.0.0)\n",
      "Requirement already satisfied: pluggy<2,>=1.5 in /config/.local/lib/python3.10/site-packages (from pytest<9.0.0,>=8.0.0->crewai_tools==0.1.6) (1.5.0)\n",
      "Requirement already satisfied: exceptiongroup>=1.0.0rc8 in /usr/local/lib/python3.10/dist-packages (from pytest<9.0.0,>=8.0.0->crewai_tools==0.1.6) (1.2.2)\n",
      "Requirement already satisfied: idna<4,>=2.5 in /usr/local/lib/python3.10/dist-packages (from requests<3.0.0,>=2.31.0->crewai_tools==0.1.6) (3.10)\n",
      "Requirement already satisfied: certifi>=2017.4.17 in /usr/local/lib/python3.10/dist-packages (from requests<3.0.0,>=2.31.0->crewai_tools==0.1.6) (2025.1.31)\n",
      "Requirement already satisfied: urllib3<3,>=1.21.1 in /usr/local/lib/python3.10/dist-packages (from requests<3.0.0,>=2.31.0->crewai_tools==0.1.6) (2.3.0)\n",
      "Requirement already satisfied: charset-normalizer<4,>=2 in /usr/local/lib/python3.10/dist-packages (from requests<3.0.0,>=2.31.0->crewai_tools==0.1.6) (3.4.1)\n",
      "Requirement already satisfied: trio~=0.17 in /config/.local/lib/python3.10/site-packages (from selenium<5.0.0,>=4.18.1->crewai_tools==0.1.6) (0.28.0)\n",
      "Requirement already satisfied: websocket-client~=1.8 in /config/.local/lib/python3.10/site-packages (from selenium<5.0.0,>=4.18.1->crewai_tools==0.1.6) (1.8.0)\n",
      "Requirement already satisfied: trio-websocket~=0.9 in /config/.local/lib/python3.10/site-packages (from selenium<5.0.0,>=4.18.1->crewai_tools==0.1.6) (0.11.1)\n",
      "Requirement already satisfied: greenlet!=0.4.17 in /usr/local/lib/python3.10/dist-packages (from SQLAlchemy<3,>=1.4->langchain_community==0.0.29) (3.1.1)\n",
      "Requirement already satisfied: Mako in /config/.local/lib/python3.10/site-packages (from alembic<2.0.0,>=1.13.1->embedchain<0.2.0,>=0.1.98->crewai==0.28.8) (1.3.9)\n",
      "Requirement already satisfied: pyproject_hooks in /config/.local/lib/python3.10/site-packages (from build>=1.0.3->chromadb<0.5.0,>=0.4.22->crewai_tools==0.1.6) (1.2.0)\n",
      "Requirement already satisfied: Pillow>=9.5.0 in /usr/local/lib/python3.10/dist-packages (from clarifai<11.0.0,>=10.0.1->embedchain<0.2.0,>=0.1.98->crewai==0.28.8) (11.1.0)\n",
      "Requirement already satisfied: clarifai-grpc>=10.11.2 in /config/.local/lib/python3.10/site-packages (from clarifai<11.0.0,>=10.0.1->embedchain<0.2.0,>=0.1.98->crewai==0.28.8) (11.0.7)\n",
      "Requirement already satisfied: fsspec==2024.6.1 in /config/.local/lib/python3.10/site-packages (from clarifai<11.0.0,>=10.0.1->embedchain<0.2.0,>=0.1.98->crewai==0.28.8) (2024.6.1)\n",
      "Requirement already satisfied: tritonclient>=2.34.0 in /config/.local/lib/python3.10/site-packages (from clarifai<11.0.0,>=10.0.1->embedchain<0.2.0,>=0.1.98->crewai==0.28.8) (2.54.0)\n",
      "Requirement already satisfied: tabulate>=0.9.0 in /config/.local/lib/python3.10/site-packages (from clarifai<11.0.0,>=10.0.1->embedchain<0.2.0,>=0.1.98->crewai==0.28.8) (0.9.0)\n",
      "Requirement already satisfied: clarifai-protocol>=0.0.14 in /config/.local/lib/python3.10/site-packages (from clarifai<11.0.0,>=10.0.1->embedchain<0.2.0,>=0.1.98->crewai==0.28.8) (0.0.14)\n",
      "Requirement already satisfied: inquirerpy==0.3.4 in /config/.local/lib/python3.10/site-packages (from clarifai<11.0.0,>=10.0.1->embedchain<0.2.0,>=0.1.98->crewai==0.28.8) (0.3.4)\n",
      "Requirement already satisfied: contextlib2>=0.5.5 in /config/.local/lib/python3.10/site-packages (from schema<0.8.0,>=0.7.5->embedchain<0.2.0,>=0.1.98->crewai==0.28.8) (21.6.0)\n",
      "Requirement already satisfied: prompt-toolkit<4.0.0,>=3.0.1 in /config/.local/lib/python3.10/site-packages (from inquirerpy==0.3.4->clarifai<11.0.0,>=10.0.1->embedchain<0.2.0,>=0.1.98->crewai==0.28.8) (3.0.50)\n",
      "Requirement already satisfied: pfzy<0.4.0,>=0.3.1 in /config/.local/lib/python3.10/site-packages (from inquirerpy==0.3.4->clarifai<11.0.0,>=10.0.1->embedchain<0.2.0,>=0.1.98->crewai==0.28.8) (0.3.4)\n",
      "Requirement already satisfied: wrapt<2,>=1.10 in /config/.local/lib/python3.10/site-packages (from deprecated>=1.2.6->opentelemetry-api<2.0.0,>=1.22.0->crewai==0.28.8) (1.17.2)\n",
      "Requirement already satisfied: starlette<0.46.0,>=0.40.0 in /usr/local/lib/python3.10/dist-packages (from fastapi>=0.95.2->chromadb<0.5.0,>=0.4.22->crewai_tools==0.1.6) (0.45.3)\n",
      "Requirement already satisfied: gitdb<5,>=4.0.1 in /usr/local/lib/python3.10/dist-packages (from gitpython<4.0.0,>=3.1.38->embedchain<0.2.0,>=0.1.98->crewai==0.28.8) (4.0.12)\n",
      "Requirement already satisfied: google-auth<3.0.0dev,>=2.14.1 in /config/.local/lib/python3.10/site-packages (from google-cloud-aiplatform<2.0.0,>=1.26.1->embedchain<0.2.0,>=0.1.98->crewai==0.28.8) (2.38.0)\n",
      "Requirement already satisfied: google-cloud-storage<3.0.0dev,>=1.32.0 in /config/.local/lib/python3.10/site-packages (from google-cloud-aiplatform<2.0.0,>=1.26.1->embedchain<0.2.0,>=0.1.98->crewai==0.28.8) (2.19.0)\n",
      "Requirement already satisfied: google-api-core[grpc]!=2.0.*,!=2.1.*,!=2.2.*,!=2.3.*,!=2.4.*,!=2.5.*,!=2.6.*,!=2.7.*,<3.0.0dev,>=1.34.1 in /config/.local/lib/python3.10/site-packages (from google-cloud-aiplatform<2.0.0,>=1.26.1->embedchain<0.2.0,>=0.1.98->crewai==0.28.8) (2.24.1)\n",
      "Requirement already satisfied: google-cloud-bigquery!=3.20.0,<4.0.0dev,>=1.15.0 in /config/.local/lib/python3.10/site-packages (from google-cloud-aiplatform<2.0.0,>=1.26.1->embedchain<0.2.0,>=0.1.98->crewai==0.28.8) (3.29.0)\n",
      "Requirement already satisfied: shapely<3.0.0dev in /config/.local/lib/python3.10/site-packages (from google-cloud-aiplatform<2.0.0,>=1.26.1->embedchain<0.2.0,>=0.1.98->crewai==0.28.8) (2.0.7)\n",
      "Requirement already satisfied: google-cloud-resource-manager<3.0.0dev,>=1.3.3 in /config/.local/lib/python3.10/site-packages (from google-cloud-aiplatform<2.0.0,>=1.26.1->embedchain<0.2.0,>=0.1.98->crewai==0.28.8) (1.14.0)\n",
      "Requirement already satisfied: proto-plus<2.0.0dev,>=1.22.3 in /config/.local/lib/python3.10/site-packages (from google-cloud-aiplatform<2.0.0,>=1.26.1->embedchain<0.2.0,>=0.1.98->crewai==0.28.8) (1.26.0)\n",
      "Requirement already satisfied: httpcore==1.* in /usr/local/lib/python3.10/dist-packages (from httpx<1,>=0.23.0->langsmith<0.2.0,>=0.1.0->langchain_community==0.0.29) (1.0.7)\n",
      "Requirement already satisfied: h11<0.15,>=0.13 in /usr/local/lib/python3.10/dist-packages (from httpcore==1.*->httpx<1,>=0.23.0->langsmith<0.2.0,>=0.1.0->langchain_community==0.0.29) (0.14.0)\n",
      "Requirement already satisfied: zipp>=3.20 in /config/.local/lib/python3.10/site-packages (from importlib-metadata<=8.5.0,>=6.0->opentelemetry-api<2.0.0,>=1.22.0->crewai==0.28.8) (3.21.0)\n",
      "Requirement already satisfied: jsonpointer>=1.9 in /usr/local/lib/python3.10/dist-packages (from jsonpatch<2.0,>=1.33->langchain<0.2.0,>=0.1.10->crewai==0.28.8) (3.0.0)\n",
      "Requirement already satisfied: oauthlib>=3.2.2 in /config/.local/lib/python3.10/site-packages (from kubernetes>=28.1.0->chromadb<0.5.0,>=0.4.22->crewai_tools==0.1.6) (3.2.2)\n",
      "Requirement already satisfied: requests-oauthlib in /config/.local/lib/python3.10/site-packages (from kubernetes>=28.1.0->chromadb<0.5.0,>=0.4.22->crewai_tools==0.1.6) (2.0.0)\n",
      "Requirement already satisfied: durationpy>=0.7 in /config/.local/lib/python3.10/site-packages (from kubernetes>=28.1.0->chromadb<0.5.0,>=0.4.22->crewai_tools==0.1.6) (0.9)\n",
      "Requirement already satisfied: python-dateutil>=2.5.3 in /usr/local/lib/python3.10/dist-packages (from kubernetes>=28.1.0->chromadb<0.5.0,>=0.4.22->crewai_tools==0.1.6) (2.9.0.post0)\n",
      "Requirement already satisfied: six>=1.9.0 in /usr/local/lib/python3.10/dist-packages (from kubernetes>=28.1.0->chromadb<0.5.0,>=0.4.22->crewai_tools==0.1.6) (1.17.0)\n",
      "Requirement already satisfied: cohere<6.0,>=5.5 in /config/.local/lib/python3.10/site-packages (from langchain-cohere<0.2.0,>=0.1.4->embedchain<0.2.0,>=0.1.98->crewai==0.28.8) (5.13.11)\n",
      "Requirement already satisfied: coloredlogs in /config/.local/lib/python3.10/site-packages (from onnxruntime>=1.14.1->chromadb<0.5.0,>=0.4.22->crewai_tools==0.1.6) (15.0.1)\n",
      "Requirement already satisfied: sympy in /config/.local/lib/python3.10/site-packages (from onnxruntime>=1.14.1->chromadb<0.5.0,>=0.4.22->crewai_tools==0.1.6) (1.13.3)\n",
      "Requirement already satisfied: flatbuffers in /config/.local/lib/python3.10/site-packages (from onnxruntime>=1.14.1->chromadb<0.5.0,>=0.4.22->crewai_tools==0.1.6) (25.1.24)\n",
      "Requirement already satisfied: opentelemetry-util-http==0.51b0 in /config/.local/lib/python3.10/site-packages (from opentelemetry-instrumentation-fastapi>=0.41b0->chromadb<0.5.0,>=0.4.22->crewai_tools==0.1.6) (0.51b0)\n",
      "Requirement already satisfied: opentelemetry-instrumentation==0.51b0 in /config/.local/lib/python3.10/site-packages (from opentelemetry-instrumentation-fastapi>=0.41b0->chromadb<0.5.0,>=0.4.22->crewai_tools==0.1.6) (0.51b0)\n",
      "Requirement already satisfied: opentelemetry-instrumentation-asgi==0.51b0 in /config/.local/lib/python3.10/site-packages (from opentelemetry-instrumentation-fastapi>=0.41b0->chromadb<0.5.0,>=0.4.22->crewai_tools==0.1.6) (0.51b0)\n",
      "Requirement already satisfied: asgiref~=3.0 in /config/.local/lib/python3.10/site-packages (from opentelemetry-instrumentation-asgi==0.51b0->opentelemetry-instrumentation-fastapi>=0.41b0->chromadb<0.5.0,>=0.4.22->crewai_tools==0.1.6) (3.8.1)\n",
      "Requirement already satisfied: monotonic>=1.5 in /config/.local/lib/python3.10/site-packages (from posthog>=2.4.0->chromadb<0.5.0,>=0.4.22->crewai_tools==0.1.6) (1.6)\n",
      "Requirement already satisfied: backoff>=1.10.0 in /config/.local/lib/python3.10/site-packages (from posthog>=2.4.0->chromadb<0.5.0,>=0.4.22->crewai_tools==0.1.6) (2.2.1)\n",
      "Requirement already satisfied: pyjwt[crypto]>=2.4.0 in /config/.local/lib/python3.10/site-packages (from PyGithub<2.0.0,>=1.59.1->embedchain<0.2.0,>=0.1.98->crewai==0.28.8) (2.10.1)\n",
      "Requirement already satisfied: pynacl>=1.4.0 in /config/.local/lib/python3.10/site-packages (from PyGithub<2.0.0,>=1.59.1->embedchain<0.2.0,>=0.1.98->crewai==0.28.8) (1.5.0)\n",
      "Requirement already satisfied: py<2.0.0,>=1.4.26 in /config/.local/lib/python3.10/site-packages (from retry>=0.9.2->lancedb<0.6.0,>=0.5.4->crewai_tools==0.1.6) (1.11.0)\n",
      "Requirement already satisfied: decorator>=3.4.2 in /config/.local/lib/python3.10/site-packages (from retry>=0.9.2->lancedb<0.6.0,>=0.5.4->crewai_tools==0.1.6) (5.1.1)\n",
      "Requirement already satisfied: markdown-it-py>=2.2.0 in /usr/local/lib/python3.10/dist-packages (from rich<14.0.0,>=13.7.0->embedchain<0.2.0,>=0.1.98->crewai==0.28.8) (3.0.0)\n",
      "Requirement already satisfied: pygments<3.0.0,>=2.13.0 in /usr/local/lib/python3.10/dist-packages (from rich<14.0.0,>=13.7.0->embedchain<0.2.0,>=0.1.98->crewai==0.28.8) (2.19.1)\n",
      "Requirement already satisfied: huggingface-hub<1.0,>=0.16.4 in /usr/local/lib/python3.10/dist-packages (from tokenizers>=0.13.2->chromadb<0.5.0,>=0.4.22->crewai_tools==0.1.6) (0.28.1)\n",
      "Requirement already satisfied: sortedcontainers in /config/.local/lib/python3.10/site-packages (from trio~=0.17->selenium<5.0.0,>=4.18.1->crewai_tools==0.1.6) (2.4.0)\n",
      "Requirement already satisfied: outcome in /config/.local/lib/python3.10/site-packages (from trio~=0.17->selenium<5.0.0,>=4.18.1->crewai_tools==0.1.6) (1.3.0.post0)\n",
      "Requirement already satisfied: wsproto>=0.14 in /config/.local/lib/python3.10/site-packages (from trio-websocket~=0.9->selenium<5.0.0,>=4.18.1->crewai_tools==0.1.6) (1.2.0)\n",
      "Requirement already satisfied: mypy-extensions>=0.3.0 in /config/.local/lib/python3.10/site-packages (from typing-inspect<1,>=0.4.0->dataclasses-json<0.7,>=0.5.7->langchain_community==0.0.29) (1.0.0)\n",
      "Requirement already satisfied: pysocks!=1.5.7,<2.0,>=1.5.6 in /config/.local/lib/python3.10/site-packages (from urllib3<3,>=1.21.1->requests<3.0.0,>=2.31.0->crewai_tools==0.1.6) (1.7.1)\n",
      "Requirement already satisfied: watchfiles>=0.13 in /config/.local/lib/python3.10/site-packages (from uvicorn[standard]>=0.18.3->chromadb<0.5.0,>=0.4.22->crewai_tools==0.1.6) (1.0.4)\n",
      "Requirement already satisfied: websockets>=10.4 in /config/.local/lib/python3.10/site-packages (from uvicorn[standard]>=0.18.3->chromadb<0.5.0,>=0.4.22->crewai_tools==0.1.6) (14.2)\n",
      "Requirement already satisfied: httptools>=0.6.3 in /config/.local/lib/python3.10/site-packages (from uvicorn[standard]>=0.18.3->chromadb<0.5.0,>=0.4.22->crewai_tools==0.1.6) (0.6.4)\n",
      "Requirement already satisfied: uvloop!=0.15.0,!=0.15.1,>=0.14.0 in /config/.local/lib/python3.10/site-packages (from uvicorn[standard]>=0.18.3->chromadb<0.5.0,>=0.4.22->crewai_tools==0.1.6) (0.21.0)\n",
      "Requirement already satisfied: defusedxml<0.8.0,>=0.7.1 in /config/.local/lib/python3.10/site-packages (from youtube-transcript-api<0.7.0,>=0.6.1->embedchain<0.2.0,>=0.1.98->crewai==0.28.8) (0.7.1)\n",
      "Requirement already satisfied: brotli in /config/.local/lib/python3.10/site-packages (from yt_dlp<2024.0.0,>=2023.11.14->embedchain<0.2.0,>=0.1.98->crewai==0.28.8) (1.1.0)\n",
      "Requirement already satisfied: pycryptodomex in /config/.local/lib/python3.10/site-packages (from yt_dlp<2024.0.0,>=2023.11.14->embedchain<0.2.0,>=0.1.98->crewai==0.28.8) (3.21.0)\n",
      "Requirement already satisfied: mutagen in /config/.local/lib/python3.10/site-packages (from yt_dlp<2024.0.0,>=2023.11.14->embedchain<0.2.0,>=0.1.98->crewai==0.28.8) (1.47.0)\n",
      "Requirement already satisfied: types-requests<3.0.0,>=2.0.0 in /config/.local/lib/python3.10/site-packages (from cohere<6.0,>=5.5->langchain-cohere<0.2.0,>=0.1.4->embedchain<0.2.0,>=0.1.98->crewai==0.28.8) (2.32.0.20241016)\n",
      "Requirement already satisfied: fastavro<2.0.0,>=1.9.4 in /config/.local/lib/python3.10/site-packages (from cohere<6.0,>=5.5->langchain-cohere<0.2.0,>=0.1.4->embedchain<0.2.0,>=0.1.98->crewai==0.28.8) (1.10.0)\n",
      "Requirement already satisfied: httpx-sse==0.4.0 in /config/.local/lib/python3.10/site-packages (from cohere<6.0,>=5.5->langchain-cohere<0.2.0,>=0.1.4->embedchain<0.2.0,>=0.1.98->crewai==0.28.8) (0.4.0)\n",
      "Requirement already satisfied: smmap<6,>=3.0.1 in /usr/local/lib/python3.10/dist-packages (from gitdb<5,>=4.0.1->gitpython<4.0.0,>=3.1.38->embedchain<0.2.0,>=0.1.98->crewai==0.28.8) (5.0.2)\n",
      "Requirement already satisfied: grpcio-status<2.0.dev0,>=1.33.2 in /config/.local/lib/python3.10/site-packages (from google-api-core[grpc]!=2.0.*,!=2.1.*,!=2.2.*,!=2.3.*,!=2.4.*,!=2.5.*,!=2.6.*,!=2.7.*,<3.0.0dev,>=1.34.1->google-cloud-aiplatform<2.0.0,>=1.26.1->embedchain<0.2.0,>=0.1.98->crewai==0.28.8) (1.70.0)\n",
      "Requirement already satisfied: rsa<5,>=3.1.4 in /config/.local/lib/python3.10/site-packages (from google-auth<3.0.0dev,>=2.14.1->google-cloud-aiplatform<2.0.0,>=1.26.1->embedchain<0.2.0,>=0.1.98->crewai==0.28.8) (4.9)\n",
      "Requirement already satisfied: pyasn1-modules>=0.2.1 in /config/.local/lib/python3.10/site-packages (from google-auth<3.0.0dev,>=2.14.1->google-cloud-aiplatform<2.0.0,>=1.26.1->embedchain<0.2.0,>=0.1.98->crewai==0.28.8) (0.4.1)\n",
      "Requirement already satisfied: google-cloud-core<3.0.0dev,>=2.4.1 in /config/.local/lib/python3.10/site-packages (from google-cloud-bigquery!=3.20.0,<4.0.0dev,>=1.15.0->google-cloud-aiplatform<2.0.0,>=1.26.1->embedchain<0.2.0,>=0.1.98->crewai==0.28.8) (2.4.1)\n",
      "Requirement already satisfied: google-resumable-media<3.0dev,>=2.0.0 in /config/.local/lib/python3.10/site-packages (from google-cloud-bigquery!=3.20.0,<4.0.0dev,>=1.15.0->google-cloud-aiplatform<2.0.0,>=1.26.1->embedchain<0.2.0,>=0.1.98->crewai==0.28.8) (2.7.2)\n",
      "Requirement already satisfied: grpc-google-iam-v1<1.0.0dev,>=0.12.4 in /config/.local/lib/python3.10/site-packages (from google-cloud-resource-manager<3.0.0dev,>=1.3.3->google-cloud-aiplatform<2.0.0,>=1.26.1->embedchain<0.2.0,>=0.1.98->crewai==0.28.8) (0.14.0)\n",
      "Requirement already satisfied: google-crc32c<2.0dev,>=1.0 in /config/.local/lib/python3.10/site-packages (from google-cloud-storage<3.0.0dev,>=1.32.0->google-cloud-aiplatform<2.0.0,>=1.26.1->embedchain<0.2.0,>=0.1.98->crewai==0.28.8) (1.6.0)\n",
      "Requirement already satisfied: filelock in /usr/local/lib/python3.10/dist-packages (from huggingface-hub<1.0,>=0.16.4->tokenizers>=0.13.2->chromadb<0.5.0,>=0.4.22->crewai_tools==0.1.6) (3.17.0)\n",
      "Requirement already satisfied: mdurl~=0.1 in /usr/local/lib/python3.10/dist-packages (from markdown-it-py>=2.2.0->rich<14.0.0,>=13.7.0->embedchain<0.2.0,>=0.1.98->crewai==0.28.8) (0.1.2)\n",
      "Requirement already satisfied: cryptography>=3.4.0 in /usr/lib/python3/dist-packages (from pyjwt[crypto]>=2.4.0->PyGithub<2.0.0,>=1.59.1->embedchain<0.2.0,>=0.1.98->crewai==0.28.8) (3.4.8)\n",
      "Requirement already satisfied: cffi>=1.4.1 in /config/.local/lib/python3.10/site-packages (from pynacl>=1.4.0->PyGithub<2.0.0,>=1.59.1->embedchain<0.2.0,>=0.1.98->crewai==0.28.8) (1.17.1)\n",
      "Requirement already satisfied: python-rapidjson>=0.9.1 in /config/.local/lib/python3.10/site-packages (from tritonclient>=2.34.0->clarifai<11.0.0,>=10.0.1->embedchain<0.2.0,>=0.1.98->crewai==0.28.8) (1.20)\n",
      "Requirement already satisfied: humanfriendly>=9.1 in /config/.local/lib/python3.10/site-packages (from coloredlogs->onnxruntime>=1.14.1->chromadb<0.5.0,>=0.4.22->crewai_tools==0.1.6) (10.0)\n",
      "Requirement already satisfied: MarkupSafe>=0.9.2 in /usr/local/lib/python3.10/dist-packages (from Mako->alembic<2.0.0,>=1.13.1->embedchain<0.2.0,>=0.1.98->crewai==0.28.8) (3.0.2)\n",
      "Requirement already satisfied: mpmath<1.4,>=1.1.0 in /config/.local/lib/python3.10/site-packages (from sympy->onnxruntime>=1.14.1->chromadb<0.5.0,>=0.4.22->crewai_tools==0.1.6) (1.3.0)\n",
      "Requirement already satisfied: pycparser in /config/.local/lib/python3.10/site-packages (from cffi>=1.4.1->pynacl>=1.4.0->PyGithub<2.0.0,>=1.59.1->embedchain<0.2.0,>=0.1.98->crewai==0.28.8) (2.22)\n",
      "Requirement already satisfied: wcwidth in /config/.local/lib/python3.10/site-packages (from prompt-toolkit<4.0.0,>=3.0.1->inquirerpy==0.3.4->clarifai<11.0.0,>=10.0.1->embedchain<0.2.0,>=0.1.98->crewai==0.28.8) (0.2.13)\n",
      "Requirement already satisfied: pyasn1<0.7.0,>=0.4.6 in /config/.local/lib/python3.10/site-packages (from pyasn1-modules>=0.2.1->google-auth<3.0.0dev,>=2.14.1->google-cloud-aiplatform<2.0.0,>=1.26.1->embedchain<0.2.0,>=0.1.98->crewai==0.28.8) (0.6.1)\n",
      "Defaulting to user installation because normal site-packages is not writeable\n",
      "Requirement already satisfied: openai==1.55.3 in /config/.local/lib/python3.10/site-packages (1.55.3)\n",
      "Requirement already satisfied: httpx==0.27.2 in /config/.local/lib/python3.10/site-packages (0.27.2)\n",
      "Requirement already satisfied: jiter<1,>=0.4.0 in /usr/local/lib/python3.10/dist-packages (from openai==1.55.3) (0.8.2)\n",
      "Requirement already satisfied: pydantic<3,>=1.9.0 in /usr/local/lib/python3.10/dist-packages (from openai==1.55.3) (2.10.6)\n",
      "Requirement already satisfied: distro<2,>=1.7.0 in /usr/local/lib/python3.10/dist-packages (from openai==1.55.3) (1.9.0)\n",
      "Requirement already satisfied: typing-extensions<5,>=4.11 in /usr/local/lib/python3.10/dist-packages (from openai==1.55.3) (4.12.2)\n",
      "Requirement already satisfied: sniffio in /usr/local/lib/python3.10/dist-packages (from openai==1.55.3) (1.3.1)\n",
      "Requirement already satisfied: tqdm>4 in /usr/local/lib/python3.10/dist-packages (from openai==1.55.3) (4.67.1)\n",
      "Requirement already satisfied: anyio<5,>=3.5.0 in /usr/local/lib/python3.10/dist-packages (from openai==1.55.3) (4.8.0)\n",
      "Requirement already satisfied: httpcore==1.* in /usr/local/lib/python3.10/dist-packages (from httpx==0.27.2) (1.0.7)\n",
      "Requirement already satisfied: idna in /usr/local/lib/python3.10/dist-packages (from httpx==0.27.2) (3.10)\n",
      "Requirement already satisfied: certifi in /usr/local/lib/python3.10/dist-packages (from httpx==0.27.2) (2025.1.31)\n",
      "Requirement already satisfied: h11<0.15,>=0.13 in /usr/local/lib/python3.10/dist-packages (from httpcore==1.*->httpx==0.27.2) (0.14.0)\n",
      "Requirement already satisfied: exceptiongroup>=1.0.2 in /usr/local/lib/python3.10/dist-packages (from anyio<5,>=3.5.0->openai==1.55.3) (1.2.2)\n",
      "Requirement already satisfied: pydantic-core==2.27.2 in /usr/local/lib/python3.10/dist-packages (from pydantic<3,>=1.9.0->openai==1.55.3) (2.27.2)\n",
      "Requirement already satisfied: annotated-types>=0.6.0 in /usr/local/lib/python3.10/dist-packages (from pydantic<3,>=1.9.0->openai==1.55.3) (0.7.0)\n"
     ]
    }
   ],
   "source": [
    "!pip install crewai==0.28.8 crewai_tools==0.1.6 langchain_community==0.0.29\n",
    "!pip install openai==1.55.3 httpx==0.27.2"
   ]
  },
  {
   "cell_type": "code",
   "execution_count": 3,
   "metadata": {
    "executionInfo": {
     "elapsed": 276,
     "status": "ok",
     "timestamp": 1733991054867,
     "user": {
      "displayName": "Sung Ryel Lim",
      "userId": "17832580391396757133"
     },
     "user_tz": -540
    },
    "height": 64,
    "id": "hc15bfrPTf2H"
   },
   "outputs": [],
   "source": [
    "# Warning control\n",
    "# TODO Why..?\n",
    "import warnings\n",
    "warnings.filterwarnings('ignore')"
   ]
  },
  {
   "cell_type": "code",
   "execution_count": 4,
   "metadata": {
    "executionInfo": {
     "elapsed": 6405,
     "status": "ok",
     "timestamp": 1733991063581,
     "user": {
      "displayName": "Sung Ryel Lim",
      "userId": "17832580391396757133"
     },
     "user_tz": -540
    },
    "height": 30,
    "id": "GUpYG2AXTf2I"
   },
   "outputs": [],
   "source": [
    "from crewai import Agent, Task, Crew"
   ]
  },
  {
   "cell_type": "code",
   "execution_count": 5,
   "metadata": {
    "executionInfo": {
     "elapsed": 270,
     "status": "ok",
     "timestamp": 1733991065177,
     "user": {
      "displayName": "Sung Ryel Lim",
      "userId": "17832580391396757133"
     },
     "user_tz": -540
    },
    "height": 98,
    "id": "9w0UJ8WGTf2J"
   },
   "outputs": [],
   "source": [
    "import os\n",
    "import openai\n",
    "\n",
    "from dotenv import load_dotenv, find_dotenv\n",
    "_ = load_dotenv(find_dotenv()) # read local .env file\n",
    "\n",
    "os.environ[\"OPENAI_API_KEY\"] = api_key\n",
    "os.environ[\"OPENAI_MODEL_NAME\"] = 'gpt-4o'\n"
   ]
  },
  {
   "cell_type": "markdown",
   "metadata": {},
   "source": [
    "# What is CrewAI?"
   ]
  },
  {
   "cell_type": "markdown",
   "metadata": {
    "id": "q2KsLYF0Tf2J"
   },
   "source": [
    "Agent(에이전트) 생성하기\n",
    "\n",
    "Agent를 정의하고, role(역할), goal(목표), backstory(배경 설명)를 제공합니다.\n",
    "\n",
    "LLM(대규모 언어 모델)은 롤플레잉을 할 때 더 나은 성능을 보이는 것으로 확인되었습니다."
   ]
  },
  {
   "cell_type": "markdown",
   "metadata": {},
   "source": [
    "### Agent: Brander"
   ]
  },
  {
   "cell_type": "code",
   "execution_count": 6,
   "metadata": {
    "executionInfo": {
     "elapsed": 1851,
     "status": "ok",
     "timestamp": 1733991077976,
     "user": {
      "displayName": "Sung Ryel Lim",
      "userId": "17832580391396757133"
     },
     "user_tz": -540
    },
    "height": 234,
    "id": "v8h_39g3Tf2K"
   },
   "outputs": [],
   "source": [
    "brander = Agent(\n",
    "role=\"팀 브랜더\",\n",
    "goal =\"\"\"생성형 AI서비스 프로젝트 수행팀에 대해 대외적으로\n",
    "마케팅하여 팀원을 모집할 수 있게 브랜딩\"\"\",\n",
    "backstory=\"당신은 생성형AI서비스 프로젝트 수행팀을\"\n",
    "\"대외적으로 홍보하고 브랜딩하는 것이 목적임\",\n",
    "allow_delegation=False,\n",
    "    verbose=True\n",
    ")"
   ]
  },
  {
   "cell_type": "markdown",
   "metadata": {
    "id": "jM-zQC2JTf2K"
   },
   "source": [
    "### Agent: Manager"
   ]
  },
  {
   "cell_type": "code",
   "execution_count": 7,
   "metadata": {
    "executionInfo": {
     "elapsed": 260,
     "status": "ok",
     "timestamp": 1733991082111,
     "user": {
      "displayName": "Sung Ryel Lim",
      "userId": "17832580391396757133"
     },
     "user_tz": -540
    },
    "height": 370,
    "id": "Q732-epnTf2K"
   },
   "outputs": [],
   "source": [
    "manager = Agent(\n",
    "role = \"팀 매니저\",\n",
    "goal = \"팀이 생성형AI서비스 서빙을 성공적으로 수행할 수 있게 관리, 감독 및 지원\",\n",
    "backstory =\"단기간내에 역량을 끌어올려야함\",\n",
    "descreption = \"일반적인 기업의 복지 및 교육과정을 우선순위화\",\n",
    "allow_delegation=False,\n",
    "    verbose=True\n",
    ")"
   ]
  },
  {
   "cell_type": "markdown",
   "metadata": {
    "id": "RWUNpt29Tf2K"
   },
   "source": [
    "### Agent: Leader"
   ]
  },
  {
   "cell_type": "code",
   "execution_count": 8,
   "metadata": {
    "executionInfo": {
     "elapsed": 265,
     "status": "ok",
     "timestamp": 1733991085196,
     "user": {
      "displayName": "Sung Ryel Lim",
      "userId": "17832580391396757133"
     },
     "user_tz": -540
    },
    "height": 268,
    "id": "9xnDvxIDTf2K"
   },
   "outputs": [],
   "source": [
    "leader = Agent(\n",
    "    role=\"팀장\",\n",
    "    goal=\"팀을 이끌며 목표를 수립하고, 일정 및 팀원들을 관리해 목표를 달성하기 위해 노력함\",\n",
    "    backstory=\"\"\"\n",
    "            팀원들의 능력에 대한 파악이 빠르며, 정해진 목표를 이루기 위한 구체적인 일정을 세움.\n",
    "            불화가 생기는 것을 원치 않으며, 이를 발빠르게 잡아내고 특히 협력을 강조하는 사람임.\n",
    "            \"\"\",\n",
    "    allow_delegation=False,\n",
    "    verbose=True\n",
    ")"
   ]
  },
  {
   "cell_type": "markdown",
   "metadata": {},
   "source": [
    "### Agent: Follower"
   ]
  },
  {
   "cell_type": "code",
   "execution_count": 9,
   "metadata": {},
   "outputs": [],
   "source": [
    "follower = Agent(\n",
    "    role=\"팀원\",\n",
    "    goal=\"팀장이 정한 목표에 부함한 의견을 제시하고, 이에 적극적으로 주어진 일을 수행함\",\n",
    "    backstory=\"\"\"\n",
    "            성장에 대한 갈망이 있으며, 자신의 능력을 극대화시키고자하는 열망이 있음.\n",
    "            백엔드, 프론트엔드, UI/UX 등의 기술적 역량을 갖추고 있음.\n",
    "            \"\"\",\n",
    "    allow_delegation=False,\n",
    "    verbose=True\n",
    ")"
   ]
  },
  {
   "cell_type": "markdown",
   "metadata": {
    "id": "TMlksZgITf2K"
   },
   "source": [
    "## Task(작업) 생성하기\n",
    "\n",
    "- Task를 정의하고, `description`(설명), `expected_output`(예상 결과물), `agent`(수행 에이전트)를 제공합니다.\n",
    "- Task에 Agent가 parameter로 지정됩니다. \n",
    "- Agent의 background보다 task의 description를 더 자세하게 써야 양질의 결과를 얻을 수 있습니다."
   ]
  },
  {
   "cell_type": "markdown",
   "metadata": {
    "id": "vBNTQ48rTf2K"
   },
   "source": [
    "### Task: Branding"
   ]
  },
  {
   "cell_type": "code",
   "execution_count": 15,
   "metadata": {
    "executionInfo": {
     "elapsed": 260,
     "status": "ok",
     "timestamp": 1733991093924,
     "user": {
      "displayName": "Sung Ryel Lim",
      "userId": "17832580391396757133"
     },
     "user_tz": -540
    },
    "height": 268,
    "id": "7u5O6jLQTf2L"
   },
   "outputs": [],
   "source": [
    "branding = Task(\n",
    "    description= \"생성형AI 서비스에 대한 최신 트렌드, 주요인물 주목할만한 뉴스를 우선순위화하\",\n",
    "    expected_output=\"\"\"조이름, 대외적으로 함양하는 가치, 우리팀에 합류함으로써 얻을 수 있는 발전가능성 제시\"\"\",\n",
    "    agent=brander,\n",
    ")"
   ]
  },
  {
   "cell_type": "markdown",
   "metadata": {
    "id": "tpYfPWHpTf2L"
   },
   "source": [
    "### Task: Assess"
   ]
  },
  {
   "cell_type": "code",
   "execution_count": 16,
   "metadata": {
    "executionInfo": {
     "elapsed": 269,
     "status": "ok",
     "timestamp": 1733991097643,
     "user": {
      "displayName": "Sung Ryel Lim",
      "userId": "17832580391396757133"
     },
     "user_tz": -540
    },
    "height": 319,
    "id": "Dch6sY44Tf2L"
   },
   "outputs": [],
   "source": [
    "assess = Task(\n",
    "    description=(\n",
    "        \"일반적인 기업의 복지 및 교육과정을 우선순위화\"\n",
    "    ),\n",
    "    expected_output= \"지원할 수 있는 교육, 지원할 수 있는 편의성\",\n",
    "    agent=manager,\n",
    ")"
   ]
  },
  {
   "cell_type": "markdown",
   "metadata": {
    "id": "Gtkz1jgoTf2L"
   },
   "source": [
    "### Task: Goal Establishment"
   ]
  },
  {
   "cell_type": "code",
   "execution_count": 17,
   "metadata": {
    "executionInfo": {
     "elapsed": 311,
     "status": "ok",
     "timestamp": 1733991104026,
     "user": {
      "displayName": "Sung Ryel Lim",
      "userId": "17832580391396757133"
     },
     "user_tz": -540
    },
    "height": 166,
    "id": "ZyQRdPvgTf2L"
   },
   "outputs": [],
   "source": [
    "goal_establish = Task(\n",
    "    description=(\"\"\"\"\n",
    "                팀원의 자기소개를 바탕으로 AI 서비스 개발 프로젝트에 부함하는 프로젝트를 선정하고 이에 대한 목표를 제시한다.\n",
    "                \"\"\"),\n",
    "    expected_output=\"\"\"\n",
    "                팀을 하나로 만들기 위한 자기소개를 바탕으로 한 팀명과 Catch Prase를 작성한다.\n",
    "                이를 바탕으로 팀이 어떤 활동을 해나가면 좋을지를 제시해달라. \n",
    "                \"\"\",\n",
    "    agent=leader\n",
    ")"
   ]
  },
  {
   "cell_type": "markdown",
   "metadata": {},
   "source": [
    "### Task: Introduce"
   ]
  },
  {
   "cell_type": "code",
   "execution_count": 18,
   "metadata": {},
   "outputs": [],
   "source": [
    "introduce = Task(\n",
    "    description=(\"\"\"\n",
    "                자신에 대해서 소개하여 이 프로젝트에 참여하게 된 동기를 밝힘. \n",
    "                이를 바탕으로 팀이 공통의 목표를 수립하면서도 개인의 목표를 이룰 수 있도록 얘기함.\n",
    "                \"\"\"),\n",
    "    expected_output=\"자신의 소개에 대해서 설명에 맞는 요소 3가지를 설정하고 이에 대해서 설명함.\"\n",
    "                    \"이때 팀원은 총 5명임으로, 5개를 작성한다.\",\n",
    "    agent=follower\n",
    ")"
   ]
  },
  {
   "cell_type": "markdown",
   "metadata": {
    "id": "m7Uw_J9iTf2L"
   },
   "source": [
    "## Crew(팀) 생성하기\n",
    "\n",
    "- Agent들로 구성된 팀을 생성합니다\n",
    "- 해당 Agent들이 수행할 작업들을 전달합니다.\n",
    "    - **참고**: *이 간단한 예시에서는* 작업들이 순차적으로 수행됩니다(즉, 서로 의존적임). 따라서 목록에서의 **작업순서**가 중요합니다.\n",
    "- `verbose=2`를 설정하면 실행의 모든 로그를 확인할 수 있습니다.\n",
    "\n",
    "\n",
    "이 설정에서:\n",
    "1. `planner`가 먼저 콘텐츠를 기획합니다\n",
    "2. `writer`가 기획된 내용을 바탕으로 글을 작성합니다\n",
    "3. `editor`가 최종적으로 작성된 글을 검토하고 편집합니다"
   ]
  },
  {
   "cell_type": "code",
   "execution_count": 26,
   "metadata": {
    "executionInfo": {
     "elapsed": 261,
     "status": "ok",
     "timestamp": 1733991109926,
     "user": {
      "displayName": "Sung Ryel Lim",
      "userId": "17832580391396757133"
     },
     "user_tz": -540
    },
    "height": 98,
    "id": "4qFEjv2STf2L"
   },
   "outputs": [
    {
     "name": "stderr",
     "output_type": "stream",
     "text": [
      "2025-02-05 16:32:48,014 - 140225082036224 - __init__.py-__init__:537 - WARNING: Overriding of current TracerProvider is not allowed\n"
     ]
    }
   ],
   "source": [
    "crew = Crew(\n",
    "    agents=[follower, leader, manager, brander],\n",
    "    tasks=[introduce, goal_establish, assess, branding],\n",
    "    verbose=2\n",
    ")"
   ]
  },
  {
   "cell_type": "markdown",
   "metadata": {
    "id": "VV0SCjyqTf2M"
   },
   "source": [
    "## Running the Crew"
   ]
  },
  {
   "cell_type": "code",
   "execution_count": 27,
   "metadata": {
    "colab": {
     "base_uri": "https://localhost:8080/"
    },
    "executionInfo": {
     "elapsed": 39529,
     "status": "ok",
     "timestamp": 1733991160104,
     "user": {
      "displayName": "Sung Ryel Lim",
      "userId": "17832580391396757133"
     },
     "user_tz": -540
    },
    "height": 30,
    "id": "bsfxOgXDTf2M",
    "outputId": "c03268ac-b756-44fa-d00a-699917e43131"
   },
   "outputs": [
    {
     "name": "stdout",
     "output_type": "stream",
     "text": [
      "\u001b[1m\u001b[95m [DEBUG]: == Working Agent: 팀원\u001b[00m\n",
      "\u001b[1m\u001b[95m [INFO]: == Starting Task: \n",
      "                자신에 대해서 소개하여 이 프로젝트에 참여하게 된 동기를 밝힘. \n",
      "                이를 바탕으로 팀이 공통의 목표를 수립하면서도 개인의 목표를 이룰 수 있도록 얘기함.\n",
      "                \u001b[00m\n",
      "\n",
      "\n",
      "\u001b[1m> Entering new CrewAgentExecutor chain...\u001b[0m\n",
      "\u001b[32;1m\u001b[1;3mI now can give a great answer  \n",
      "Final Answer: \n",
      "\n",
      "안녕하세요, 저는 팀의 일원으로서 성장에 대한 강한 열망을 가지고 있으며, 제 능력을 최대한 발휘하고자 하는 열정을 가지고 있습니다. 백엔드, 프론트엔드, 그리고 UI/UX에 대한 기술적 역량을 갖추고 있어 다양한 측면에서 팀에 기여할 수 있습니다. \n",
      "\n",
      "이번 프로젝트에 참여하게 된 동기는 다음과 같습니다:\n",
      "\n",
      "1. **성장과 학습의 기회**: 이 프로젝트는 저에게 새로운 기술을 배우고 기존의 기술을 더욱 심화시킬 수 있는 좋은 기회를 제공합니다. 팀의 목표에 부합하는 솔루션을 제시하고 이를 실행함으로써, 개인적으로도 성장할 수 있는 발판을 마련하고자 합니다.\n",
      "\n",
      "2. **팀워크와 협업**: 다섯 명의 팀원과 함께 협력하여 프로젝트를 수행함으로써, 저는 다양한 관점과 아이디어를 접할 수 있습니다. 이는 저의 사고의 폭을 넓히고, 더 나아가 팀워크를 통해 더 나은 결과물을 만들어낼 수 있는 기회를 제공합니다.\n",
      "\n",
      "3. **결과 지향적인 목표 달성**: 팀장이 설정한 목표를 충실히 이행하면서, 저의 개인 목표도 달성할 수 있도록 최선을 다할 것입니다. 이는 개인의 성과와 팀의 성공을 동시에 이루고자 하는 저의 열정을 반영합니다.\n",
      "\n",
      "이러한 동기를 바탕으로, 팀의 공통 목표를 수립하면서 각자의 개인 목표도 함께 달성할 수 있도록 최선을 다하겠습니다. 감사합니다.\u001b[0m\n",
      "\n",
      "\u001b[1m> Finished chain.\u001b[0m\n",
      "\u001b[1m\u001b[92m [DEBUG]: == [팀원] Task output: 안녕하세요, 저는 팀의 일원으로서 성장에 대한 강한 열망을 가지고 있으며, 제 능력을 최대한 발휘하고자 하는 열정을 가지고 있습니다. 백엔드, 프론트엔드, 그리고 UI/UX에 대한 기술적 역량을 갖추고 있어 다양한 측면에서 팀에 기여할 수 있습니다. \n",
      "\n",
      "이번 프로젝트에 참여하게 된 동기는 다음과 같습니다:\n",
      "\n",
      "1. **성장과 학습의 기회**: 이 프로젝트는 저에게 새로운 기술을 배우고 기존의 기술을 더욱 심화시킬 수 있는 좋은 기회를 제공합니다. 팀의 목표에 부합하는 솔루션을 제시하고 이를 실행함으로써, 개인적으로도 성장할 수 있는 발판을 마련하고자 합니다.\n",
      "\n",
      "2. **팀워크와 협업**: 다섯 명의 팀원과 함께 협력하여 프로젝트를 수행함으로써, 저는 다양한 관점과 아이디어를 접할 수 있습니다. 이는 저의 사고의 폭을 넓히고, 더 나아가 팀워크를 통해 더 나은 결과물을 만들어낼 수 있는 기회를 제공합니다.\n",
      "\n",
      "3. **결과 지향적인 목표 달성**: 팀장이 설정한 목표를 충실히 이행하면서, 저의 개인 목표도 달성할 수 있도록 최선을 다할 것입니다. 이는 개인의 성과와 팀의 성공을 동시에 이루고자 하는 저의 열정을 반영합니다.\n",
      "\n",
      "이러한 동기를 바탕으로, 팀의 공통 목표를 수립하면서 각자의 개인 목표도 함께 달성할 수 있도록 최선을 다하겠습니다. 감사합니다.\n",
      "\n",
      "\u001b[00m\n",
      "\u001b[1m\u001b[95m [DEBUG]: == Working Agent: 팀장\u001b[00m\n",
      "\u001b[1m\u001b[95m [INFO]: == Starting Task: \"\n",
      "                팀원의 자기소개를 바탕으로 AI 서비스 개발 프로젝트에 부함하는 프로젝트를 선정하고 이에 대한 목표를 제시한다.\n",
      "                \u001b[00m\n",
      "\n",
      "\n",
      "\u001b[1m> Entering new CrewAgentExecutor chain...\u001b[0m\n",
      "\u001b[32;1m\u001b[1;3mThought: I now can give a great answer  \n",
      "Final Answer: my best complete final answer to the task.\n",
      "\n",
      "팀명: \"Synergy Innovators\"  \n",
      "Catch Phrase: \"Together, We Create the Future\"\n",
      "\n",
      "팀의 활동 제안:  \n",
      "\n",
      "1. **목표 설정 및 역할 분담**: 팀원들의 기술적 역량과 동기를 바탕으로 구체적인 목표를 설정합니다. 이를 통해 각자의 강점을 최대한 발휘할 수 있도록 역할을 분담하고, 프로젝트의 전체적인 흐름을 명확히 파악할 수 있도록 합니다.\n",
      "\n",
      "2. **정기적인 커뮤니케이션**: 주간 회의를 통해 진행 상황을 공유하고, 발생할 수 있는 문제점들을 신속히 해결할 수 있는 방안을 모색합니다. 이를 통해 팀원 간의 협력을 강화하고, 불화가 생기지 않도록 합니다.\n",
      "\n",
      "3. **학습과 성장의 기회 제공**: 팀원들이 새로운 기술을 배우고 기존의 기술을 심화시킬 수 있도록 워크숍이나 세미나를 개최합니다. 이를 통해 개인의 성장뿐만 아니라 팀의 전체적인 기술 수준을 향상시킵니다.\n",
      "\n",
      "4. **프로토타입 개발 및 피드백**: 빠르게 프로토타입을 개발하고, 팀원 및 외부 사용자들로부터 피드백을 받아 개선해 나갑니다. 이를 통해 사용자 중심의 솔루션을 개발할 수 있도록 합니다.\n",
      "\n",
      "5. **성과 공유 및 축하**: 프로젝트의 각 단계가 완료될 때마다 팀의 성과를 공유하고 축하하는 시간을 가집니다. 이는 팀원들의 동기부여를 높이고, 팀워크를 강화하는 데 기여할 것입니다.\n",
      "\n",
      "이러한 활동을 통해 \"Synergy Innovators\" 팀은 협력을 통해 혁신적인 AI 서비스를 성공적으로 개발할 수 있을 것입니다.\u001b[0m\n",
      "\n",
      "\u001b[1m> Finished chain.\u001b[0m\n",
      "\u001b[1m\u001b[92m [DEBUG]: == [팀장] Task output: my best complete final answer to the task.\n",
      "\n",
      "팀명: \"Synergy Innovators\"  \n",
      "Catch Phrase: \"Together, We Create the Future\"\n",
      "\n",
      "팀의 활동 제안:  \n",
      "\n",
      "1. **목표 설정 및 역할 분담**: 팀원들의 기술적 역량과 동기를 바탕으로 구체적인 목표를 설정합니다. 이를 통해 각자의 강점을 최대한 발휘할 수 있도록 역할을 분담하고, 프로젝트의 전체적인 흐름을 명확히 파악할 수 있도록 합니다.\n",
      "\n",
      "2. **정기적인 커뮤니케이션**: 주간 회의를 통해 진행 상황을 공유하고, 발생할 수 있는 문제점들을 신속히 해결할 수 있는 방안을 모색합니다. 이를 통해 팀원 간의 협력을 강화하고, 불화가 생기지 않도록 합니다.\n",
      "\n",
      "3. **학습과 성장의 기회 제공**: 팀원들이 새로운 기술을 배우고 기존의 기술을 심화시킬 수 있도록 워크숍이나 세미나를 개최합니다. 이를 통해 개인의 성장뿐만 아니라 팀의 전체적인 기술 수준을 향상시킵니다.\n",
      "\n",
      "4. **프로토타입 개발 및 피드백**: 빠르게 프로토타입을 개발하고, 팀원 및 외부 사용자들로부터 피드백을 받아 개선해 나갑니다. 이를 통해 사용자 중심의 솔루션을 개발할 수 있도록 합니다.\n",
      "\n",
      "5. **성과 공유 및 축하**: 프로젝트의 각 단계가 완료될 때마다 팀의 성과를 공유하고 축하하는 시간을 가집니다. 이는 팀원들의 동기부여를 높이고, 팀워크를 강화하는 데 기여할 것입니다.\n",
      "\n",
      "이러한 활동을 통해 \"Synergy Innovators\" 팀은 협력을 통해 혁신적인 AI 서비스를 성공적으로 개발할 수 있을 것입니다.\n",
      "\n",
      "\u001b[00m\n",
      "\u001b[1m\u001b[95m [DEBUG]: == Working Agent: 팀 매니저\u001b[00m\n",
      "\u001b[1m\u001b[95m [INFO]: == Starting Task: 일반적인 기업의 복지 및 교육과정을 우선순위화\u001b[00m\n",
      "\n",
      "\n",
      "\u001b[1m> Entering new CrewAgentExecutor chain...\u001b[0m\n",
      "\u001b[32;1m\u001b[1;3mThought: I now can give a great answer  \n",
      "Final Answer: my best complete final answer to the task.\n",
      "\n",
      "\"Synergy Innovators\" 팀의 목표는 팀원들이 생성형 AI 서비스를 성공적으로 서빙할 수 있도록 관리, 감독 및 지원하는 것입니다. 이를 위해, 팀의 교육 및 복지 과정을 다음과 같이 우선순위화하여 팀의 역량을 단기간 내에 끌어올릴 수 있도록 하겠습니다.\n",
      "\n",
      "1. **교육 지원**:\n",
      "   - **기술 워크숍 및 세미나**: 팀원들이 최신 AI 기술을 배우고 기존 기술을 심화시킬 수 있도록 정기적인 워크숍과 세미나를 개최합니다. 전문가를 초청하여 실무에 바로 적용할 수 있는 지식을 전달하고, 이를 통해 실질적인 기술 역량을 강화합니다.\n",
      "   - **온라인 교육 플랫폼 이용**: Coursera, Udemy와 같은 온라인 플랫폼을 통해 필요한 교육 과정을 지원합니다. 팀원들이 자유롭게 학습할 수 있도록 교육비를 지원하고, 학습 계획을 수립하여 체계적인 교육이 이루어지도록 합니다.\n",
      "   - **멘토링 프로그램**: 팀 내에서 경험이 풍부한 선배와 신입 팀원 간의 멘토링을 통해 지식과 경험을 공유합니다. 이를 통해 개인의 성장을 돕고, 팀 전체의 전문성을 높입니다.\n",
      "\n",
      "2. **편의성 지원**:\n",
      "   - **유연 근무제**: 팀원들이 자신의 학습과 업무를 효율적으로 조율할 수 있도록 유연 근무제를 도입합니다. 이를 통해 스트레스를 줄이고, 자율성을 높여 창의적인 아이디어를 발휘할 수 있는 환경을 조성합니다.\n",
      "   - **복지 혜택**: 헬스케어 지원, 식사 제공, 휴식 공간 마련 등 팀원들의 편의를 돕는 다양한 복지 혜택을 제공합니다. 이러한 지원은 팀원들이 업무에 집중할 수 있도록 돕고, 팀의 사기를 높이는 데 기여합니다.\n",
      "   - **정신적 건강 지원**: 스트레스 관리와 정신적 건강을 위한 상담 서비스를 제공합니다. 팀원들이 정신적으로 건강을 유지할 수 있도록 지원하여, 더 나은 성과를 낼 수 있도록 합니다.\n",
      "\n",
      "이러한 교육 및 복지 우선순위는 \"Synergy Innovators\" 팀이 혁신적이고 사용자 중심의 AI 서비스를 개발하는 데 필요한 기반을 제공할 것입니다. 팀원들의 성장과 복지를 동시에 고려하여, 협력을 통해 더 큰 성과를 이룰 수 있도록 지원하겠습니다.\u001b[0m\n",
      "\n",
      "\u001b[1m> Finished chain.\u001b[0m\n",
      "\u001b[1m\u001b[92m [DEBUG]: == [팀 매니저] Task output: my best complete final answer to the task.\n",
      "\n",
      "\"Synergy Innovators\" 팀의 목표는 팀원들이 생성형 AI 서비스를 성공적으로 서빙할 수 있도록 관리, 감독 및 지원하는 것입니다. 이를 위해, 팀의 교육 및 복지 과정을 다음과 같이 우선순위화하여 팀의 역량을 단기간 내에 끌어올릴 수 있도록 하겠습니다.\n",
      "\n",
      "1. **교육 지원**:\n",
      "   - **기술 워크숍 및 세미나**: 팀원들이 최신 AI 기술을 배우고 기존 기술을 심화시킬 수 있도록 정기적인 워크숍과 세미나를 개최합니다. 전문가를 초청하여 실무에 바로 적용할 수 있는 지식을 전달하고, 이를 통해 실질적인 기술 역량을 강화합니다.\n",
      "   - **온라인 교육 플랫폼 이용**: Coursera, Udemy와 같은 온라인 플랫폼을 통해 필요한 교육 과정을 지원합니다. 팀원들이 자유롭게 학습할 수 있도록 교육비를 지원하고, 학습 계획을 수립하여 체계적인 교육이 이루어지도록 합니다.\n",
      "   - **멘토링 프로그램**: 팀 내에서 경험이 풍부한 선배와 신입 팀원 간의 멘토링을 통해 지식과 경험을 공유합니다. 이를 통해 개인의 성장을 돕고, 팀 전체의 전문성을 높입니다.\n",
      "\n",
      "2. **편의성 지원**:\n",
      "   - **유연 근무제**: 팀원들이 자신의 학습과 업무를 효율적으로 조율할 수 있도록 유연 근무제를 도입합니다. 이를 통해 스트레스를 줄이고, 자율성을 높여 창의적인 아이디어를 발휘할 수 있는 환경을 조성합니다.\n",
      "   - **복지 혜택**: 헬스케어 지원, 식사 제공, 휴식 공간 마련 등 팀원들의 편의를 돕는 다양한 복지 혜택을 제공합니다. 이러한 지원은 팀원들이 업무에 집중할 수 있도록 돕고, 팀의 사기를 높이는 데 기여합니다.\n",
      "   - **정신적 건강 지원**: 스트레스 관리와 정신적 건강을 위한 상담 서비스를 제공합니다. 팀원들이 정신적으로 건강을 유지할 수 있도록 지원하여, 더 나은 성과를 낼 수 있도록 합니다.\n",
      "\n",
      "이러한 교육 및 복지 우선순위는 \"Synergy Innovators\" 팀이 혁신적이고 사용자 중심의 AI 서비스를 개발하는 데 필요한 기반을 제공할 것입니다. 팀원들의 성장과 복지를 동시에 고려하여, 협력을 통해 더 큰 성과를 이룰 수 있도록 지원하겠습니다.\n",
      "\n",
      "\u001b[00m\n",
      "\u001b[1m\u001b[95m [DEBUG]: == Working Agent: 팀 브랜더\u001b[00m\n",
      "\u001b[1m\u001b[95m [INFO]: == Starting Task: 생성형AI서비스에 대한 최신 트렌드, 주요인물 주목할만한 뉴스를 우선순위화하\u001b[00m\n",
      "\n",
      "\n",
      "\u001b[1m> Entering new CrewAgentExecutor chain...\u001b[0m\n",
      "\u001b[32;1m\u001b[1;3mThought: I now can give a great answer  \n",
      "Final Answer: \n",
      "\n",
      "\"Synergy Innovators\" 팀은 생성형 AI 서비스 프로젝트 수행팀으로서, 최신 AI 기술의 선구자가 되고자 하는 열정과 혁신을 가진 인재들을 모집하고 있습니다. 대외적으로 함양하는 가치는 다음과 같습니다:\n",
      "\n",
      "1. **혁신과 창의성**: 우리는 혁신적인 AI 솔루션을 통해 사용자 중심의 서비스를 제공하여 세상을 변화시키고자 합니다. 창의적인 아이디어를 발굴하고 이를 실현할 수 있는 환경을 조성합니다.\n",
      "\n",
      "2. **협력과 성장**: 팀 내의 협력을 통해 시너지를 창출하고, 팀원들이 개인적으로도 성장할 수 있는 기회를 제공합니다. 다양한 배경의 팀원들이 서로의 지식과 경험을 공유하여 함께 발전합니다.\n",
      "\n",
      "3. **지속적인 학습과 개발**: 최신 트렌드와 기술에 대한 지속적인 학습을 통해 팀의 역량을 강화하고, 이를 통해 시장에서의 경쟁력을 확보합니다.\n",
      "\n",
      "\"Synergy Innovators\" 팀에 합류함으로써 얻을 수 있는 발전 가능성은 무궁무진합니다. 팀원들은 최신 AI 기술을 접하고, 이를 실무에 적용하면서 기술적 역량을 극대화할 수 있습니다. 또한, 팀 내 멘토링 프로그램과 유연 근무제를 통해 개인의 업무와 학습을 조율하며, 자신만의 커리어 경로를 설계할 수 있습니다. 다양한 복지 혜택과 정신적 건강 지원은 팀원들이 최상의 상태에서 업무에 몰입할 수 있도록 돕습니다.\n",
      "\n",
      "이러한 가치와 기회를 통해 우리는 생성형 AI 서비스 분야에서의 리더로서 자리매김하고자 합니다. 여러분의 참여가 \"Synergy Innovators\" 팀의 성공에 큰 기여를 할 것입니다. 함께 혁신을 이끌어 갈 인재를 기다리겠습니다.\u001b[0m\n",
      "\n",
      "\u001b[1m> Finished chain.\u001b[0m\n",
      "\u001b[1m\u001b[92m [DEBUG]: == [팀 브랜더] Task output: \"Synergy Innovators\" 팀은 생성형 AI 서비스 프로젝트 수행팀으로서, 최신 AI 기술의 선구자가 되고자 하는 열정과 혁신을 가진 인재들을 모집하고 있습니다. 대외적으로 함양하는 가치는 다음과 같습니다:\n",
      "\n",
      "1. **혁신과 창의성**: 우리는 혁신적인 AI 솔루션을 통해 사용자 중심의 서비스를 제공하여 세상을 변화시키고자 합니다. 창의적인 아이디어를 발굴하고 이를 실현할 수 있는 환경을 조성합니다.\n",
      "\n",
      "2. **협력과 성장**: 팀 내의 협력을 통해 시너지를 창출하고, 팀원들이 개인적으로도 성장할 수 있는 기회를 제공합니다. 다양한 배경의 팀원들이 서로의 지식과 경험을 공유하여 함께 발전합니다.\n",
      "\n",
      "3. **지속적인 학습과 개발**: 최신 트렌드와 기술에 대한 지속적인 학습을 통해 팀의 역량을 강화하고, 이를 통해 시장에서의 경쟁력을 확보합니다.\n",
      "\n",
      "\"Synergy Innovators\" 팀에 합류함으로써 얻을 수 있는 발전 가능성은 무궁무진합니다. 팀원들은 최신 AI 기술을 접하고, 이를 실무에 적용하면서 기술적 역량을 극대화할 수 있습니다. 또한, 팀 내 멘토링 프로그램과 유연 근무제를 통해 개인의 업무와 학습을 조율하며, 자신만의 커리어 경로를 설계할 수 있습니다. 다양한 복지 혜택과 정신적 건강 지원은 팀원들이 최상의 상태에서 업무에 몰입할 수 있도록 돕습니다.\n",
      "\n",
      "이러한 가치와 기회를 통해 우리는 생성형 AI 서비스 분야에서의 리더로서 자리매김하고자 합니다. 여러분의 참여가 \"Synergy Innovators\" 팀의 성공에 큰 기여를 할 것입니다. 함께 혁신을 이끌어 갈 인재를 기다리겠습니다.\n",
      "\n",
      "\u001b[00m\n"
     ]
    }
   ],
   "source": [
    "# result = crew.kickoff(inputs={\"topic\": \"생성형 AI를 이용한 제약회사 경쟁력 제고 방안\"})\n",
    "result = crew.kickoff()"
   ]
  },
  {
   "cell_type": "code",
   "execution_count": 28,
   "metadata": {
    "colab": {
     "base_uri": "https://localhost:8080/",
     "height": 735
    },
    "executionInfo": {
     "elapsed": 273,
     "status": "ok",
     "timestamp": 1733991170715,
     "user": {
      "displayName": "Sung Ryel Lim",
      "userId": "17832580391396757133"
     },
     "user_tz": -540
    },
    "height": 47,
    "id": "VEEgWLc9Tf2M",
    "outputId": "5d58ff68-b6a2-42ef-bff7-c9f108800a9a"
   },
   "outputs": [
    {
     "data": {
      "text/markdown": [
       "\"Synergy Innovators\" 팀은 생성형 AI 서비스 프로젝트 수행팀으로서, 최신 AI 기술의 선구자가 되고자 하는 열정과 혁신을 가진 인재들을 모집하고 있습니다. 대외적으로 함양하는 가치는 다음과 같습니다:\n",
       "\n",
       "1. **혁신과 창의성**: 우리는 혁신적인 AI 솔루션을 통해 사용자 중심의 서비스를 제공하여 세상을 변화시키고자 합니다. 창의적인 아이디어를 발굴하고 이를 실현할 수 있는 환경을 조성합니다.\n",
       "\n",
       "2. **협력과 성장**: 팀 내의 협력을 통해 시너지를 창출하고, 팀원들이 개인적으로도 성장할 수 있는 기회를 제공합니다. 다양한 배경의 팀원들이 서로의 지식과 경험을 공유하여 함께 발전합니다.\n",
       "\n",
       "3. **지속적인 학습과 개발**: 최신 트렌드와 기술에 대한 지속적인 학습을 통해 팀의 역량을 강화하고, 이를 통해 시장에서의 경쟁력을 확보합니다.\n",
       "\n",
       "\"Synergy Innovators\" 팀에 합류함으로써 얻을 수 있는 발전 가능성은 무궁무진합니다. 팀원들은 최신 AI 기술을 접하고, 이를 실무에 적용하면서 기술적 역량을 극대화할 수 있습니다. 또한, 팀 내 멘토링 프로그램과 유연 근무제를 통해 개인의 업무와 학습을 조율하며, 자신만의 커리어 경로를 설계할 수 있습니다. 다양한 복지 혜택과 정신적 건강 지원은 팀원들이 최상의 상태에서 업무에 몰입할 수 있도록 돕습니다.\n",
       "\n",
       "이러한 가치와 기회를 통해 우리는 생성형 AI 서비스 분야에서의 리더로서 자리매김하고자 합니다. 여러분의 참여가 \"Synergy Innovators\" 팀의 성공에 큰 기여를 할 것입니다. 함께 혁신을 이끌어 갈 인재를 기다리겠습니다."
      ],
      "text/plain": [
       "<IPython.core.display.Markdown object>"
      ]
     },
     "execution_count": 28,
     "metadata": {},
     "output_type": "execute_result"
    }
   ],
   "source": [
    "# Display the results of your execution as markdown in the notebook.\n",
    "from IPython.display import Markdown\n",
    "Markdown(result)"
   ]
  }
 ],
 "metadata": {
  "colab": {
   "provenance": []
  },
  "kernelspec": {
   "display_name": "Python 3",
   "name": "python3"
  },
  "language_info": {
   "codemirror_mode": {
    "name": "ipython",
    "version": 3
   },
   "file_extension": ".py",
   "mimetype": "text/x-python",
   "name": "python",
   "nbconvert_exporter": "python",
   "pygments_lexer": "ipython3",
   "version": "3.10.12"
  }
 },
 "nbformat": 4,
 "nbformat_minor": 0
}
