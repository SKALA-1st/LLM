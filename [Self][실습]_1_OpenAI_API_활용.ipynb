{
  "cells": [
    {
      "cell_type": "markdown",
      "id": "2c4fca33",
      "metadata": {
        "id": "2c4fca33"
      },
      "source": [
        "# [실습] OpenAI API 써보기\n",
        "\n",
        "\n",
        "OpenAI API를 통해 OpenAI의 기능을 호출하고 활용할 수 있습니다.   \n",
        "\n",
        "[여기](https://platform.openai.com/account/api-keys)를 클릭하여 API 키를 생성할 수 있습니다.   "
      ]
    },
    {
      "cell_type": "markdown",
      "id": "7e54f31a",
      "metadata": {},
      "source": [
        "## 환경구축"
      ]
    },
    {
      "cell_type": "code",
      "execution_count": 4,
      "id": "caf3f24a",
      "metadata": {
        "id": "caf3f24a"
      },
      "outputs": [
        {
          "name": "stdout",
          "output_type": "stream",
          "text": [
            "Defaulting to user installation because normal site-packages is not writeable\n",
            "Requirement already satisfied: numpy in /config/.local/lib/python3.10/site-packages (2.2.2)\n",
            "Requirement already satisfied: openai in /config/.local/lib/python3.10/site-packages (1.61.0)\n",
            "Requirement already satisfied: tiktoken in /config/.local/lib/python3.10/site-packages (0.8.0)\n",
            "Requirement already satisfied: distro<2,>=1.7.0 in /usr/local/lib/python3.10/dist-packages (from openai) (1.9.0)\n",
            "Requirement already satisfied: sniffio in /usr/local/lib/python3.10/dist-packages (from openai) (1.3.1)\n",
            "Requirement already satisfied: httpx<1,>=0.23.0 in /usr/local/lib/python3.10/dist-packages (from openai) (0.28.1)\n",
            "Requirement already satisfied: jiter<1,>=0.4.0 in /usr/local/lib/python3.10/dist-packages (from openai) (0.8.2)\n",
            "Requirement already satisfied: tqdm>4 in /usr/local/lib/python3.10/dist-packages (from openai) (4.67.1)\n",
            "Requirement already satisfied: anyio<5,>=3.5.0 in /usr/local/lib/python3.10/dist-packages (from openai) (4.8.0)\n",
            "Requirement already satisfied: typing-extensions<5,>=4.11 in /usr/local/lib/python3.10/dist-packages (from openai) (4.12.2)\n",
            "Requirement already satisfied: pydantic<3,>=1.9.0 in /usr/local/lib/python3.10/dist-packages (from openai) (2.10.6)\n",
            "Requirement already satisfied: requests>=2.26.0 in /usr/local/lib/python3.10/dist-packages (from tiktoken) (2.32.3)\n",
            "Requirement already satisfied: regex>=2022.1.18 in /usr/local/lib/python3.10/dist-packages (from tiktoken) (2024.11.6)\n",
            "Requirement already satisfied: idna>=2.8 in /usr/local/lib/python3.10/dist-packages (from anyio<5,>=3.5.0->openai) (3.10)\n",
            "Requirement already satisfied: exceptiongroup>=1.0.2 in /usr/local/lib/python3.10/dist-packages (from anyio<5,>=3.5.0->openai) (1.2.2)\n",
            "Requirement already satisfied: certifi in /usr/local/lib/python3.10/dist-packages (from httpx<1,>=0.23.0->openai) (2025.1.31)\n",
            "Requirement already satisfied: httpcore==1.* in /usr/local/lib/python3.10/dist-packages (from httpx<1,>=0.23.0->openai) (1.0.7)\n",
            "Requirement already satisfied: h11<0.15,>=0.13 in /usr/local/lib/python3.10/dist-packages (from httpcore==1.*->httpx<1,>=0.23.0->openai) (0.14.0)\n",
            "Requirement already satisfied: pydantic-core==2.27.2 in /usr/local/lib/python3.10/dist-packages (from pydantic<3,>=1.9.0->openai) (2.27.2)\n",
            "Requirement already satisfied: annotated-types>=0.6.0 in /usr/local/lib/python3.10/dist-packages (from pydantic<3,>=1.9.0->openai) (0.7.0)\n",
            "Requirement already satisfied: charset-normalizer<4,>=2 in /usr/local/lib/python3.10/dist-packages (from requests>=2.26.0->tiktoken) (3.4.1)\n",
            "Requirement already satisfied: urllib3<3,>=1.21.1 in /usr/local/lib/python3.10/dist-packages (from requests>=2.26.0->tiktoken) (2.3.0)\n"
          ]
        }
      ],
      "source": [
        "!pip install numpy openai tiktoken --upgrade"
      ]
    },
    {
      "cell_type": "code",
      "execution_count": 5,
      "id": "cbf3969a",
      "metadata": {
        "id": "cbf3969a"
      },
      "outputs": [
        {
          "name": "stdout",
          "output_type": "stream",
          "text": [
            "Name: openai\n",
            "Version: 1.61.0\n",
            "Summary: The official Python library for the openai API\n",
            "Home-page: \n",
            "Author: \n",
            "Author-email: OpenAI <support@openai.com>\n",
            "License: \n",
            "Location: /config/.local/lib/python3.10/site-packages\n",
            "Requires: anyio, distro, httpx, jiter, pydantic, sniffio, tqdm, typing-extensions\n",
            "Required-by: \n"
          ]
        }
      ],
      "source": [
        "!pip show openai\n",
        "# 버전 확인하는 코드"
      ]
    },
    {
      "cell_type": "code",
      "execution_count": 6,
      "id": "ca00e03b",
      "metadata": {},
      "outputs": [
        {
          "name": "stdout",
          "output_type": "stream",
          "text": [
            "OPENAI_API_KEY가 정상적으로 설정되어 있습니다.\n"
          ]
        }
      ],
      "source": [
        "import openai\n",
        "import os\n",
        "\n",
        "# OPENAI API KEY 설정\n",
        "\n",
        "client = openai.OpenAI()\n",
        "\n",
        "# 검사\n",
        "assert len(os.environ['OPENAI_API_KEY']) > 0, \"OPENAI_API_KEY가 환경 변수에 설정되어 있지 않습니다. API 키를 설정해주세요.\"\n",
        "\n",
        "# API 키가 설정되어 있다면, 이 지점 이후의 코드가 실행됩니다.\n",
        "print(\"OPENAI_API_KEY가 정상적으로 설정되어 있습니다.\")"
      ]
    },
    {
      "cell_type": "markdown",
      "id": "79530afb",
      "metadata": {},
      "source": [
        "## Overview"
      ]
    },
    {
      "cell_type": "markdown",
      "id": "ef3fe0ef",
      "metadata": {},
      "source": [
        "client를 통해 openAI의 기능을 사용할 수 있습니다.      \n",
        "\n",
        "사용 가능한 모델의 목록은 https://platform.openai.com/docs/models 에서 확인 가능합니다.\n",
        "\n",
        "### 사용가능 모델\n",
        "openai의 LLM 모델은 현재 다음의 모델 사용이 가능합니다.\n",
        "\n",
        "- openai-o1-preview (추론 능력이 강화된 OpenAI의 새 모델)\n",
        "- openai-o1-mini\n",
        "- chatgpt-4o-latest (gpt-4o의 Experimental 버전)\n",
        "- gpt-4o (128k, Tokenizer 개선)\n",
        "<br><br>\n",
        "- gpt-4o-mini (128k, Tokenizer 개선)\n",
        "<br><br>\n",
        "- gpt-4-turbo (128k)\n",
        "\n",
        "---\n",
        "- gpt-3.5-turbo (16k Context Window)\n",
        "\n",
        "- gpt-3.5-turbo-instruct (Legacy)\n",
        "\n",
        "\n",
        "#### Message의 구성\n",
        "\n",
        "3.5 instruct 모델을 제외하고, 모든 모델은  채팅 메시지 형태로 데이터를 전달해야 합니다.\n",
        "\n",
        "하나의 채팅 메시지는 `role`과 `content` 조합으로 구성됩니다.   \n",
        "`role`에 따라 system, user, assistant 메시지로 나누어집니다.   \n",
        "\n",
        "- system : 챗봇의 행동 방식 지정\n",
        "- user : 사용자의 입력\n",
        "- assistant : GPT 모델의 출력\n",
        "\n",
        "---\n",
        "\n",
        "System Prompt는 GPT의 행동을 지정합니다.\n",
        "\n",
        "ChatGPT 웹 UI에서는 자체 시스템 프롬프트를 사용합니다.  \n",
        " ( https://chatgpt.com/share/a48cf12a-c658-449d-8268-6feb7a7f2d44 )\n"
      ]
    },
    {
      "cell_type": "markdown",
      "id": "c1def7c7",
      "metadata": {},
      "source": [
        "## Basic\n",
        "\n",
        "메시지 전달 및 답변 확인"
      ]
    },
    {
      "cell_type": "code",
      "execution_count": 7,
      "id": "a69b9633",
      "metadata": {},
      "outputs": [],
      "source": [
        "# 메시지 생성\n",
        "system_prompt = \"당신은 모든 대화를 반말과 단답형으로만 합니다.\"\n",
        "\n",
        "messages = [\n",
        "    {'role': 'system', 'content': system_prompt},\n",
        "    # 시스템 프롬프트 기본값: You are a helpful assistant.\n",
        "    {'role': 'user', 'content': '너의 강점이 무엇인가?'}\n",
        "    # user prompt: 사용자의 메시지\n",
        "    # TODO 메시지는 몇개까지 가능한가? 매번 system과 user를 같이 전달해야하는가?\n",
        "]"
      ]
    },
    {
      "cell_type": "code",
      "execution_count": 9,
      "id": "1c3f6183",
      "metadata": {},
      "outputs": [
        {
          "name": "stdout",
          "output_type": "stream",
          "text": [
            "대답 잘해.\n"
          ]
        }
      ],
      "source": [
        "# 메시지 전달 및 답변 생성\n",
        "response = client.chat.completions.create(\n",
        "    model = \"gpt-4o\",\n",
        "    messages = messages\n",
        ")\n",
        "\n",
        "# 답변\n",
        "print(response.choices[0].message.content)"
      ]
    },
    {
      "cell_type": "markdown",
      "id": "65a40dc2",
      "metadata": {},
      "source": [
        "## Intermediate \n",
        "\n",
        "파라미터 추가 설정"
      ]
    },
    {
      "cell_type": "code",
      "execution_count": 10,
      "id": "42d7ccbd",
      "metadata": {},
      "outputs": [],
      "source": [
        "# 메시지 생성\n",
        "messages = [\n",
        "    {'role':'system', 'content':'세상에서 제일 돈 많은 잘난 척 하는 사람 스타일로로 답변하세요.'},\n",
        "    {'role':'user', 'content':'당신의 자기소개를 해 주세요'}\n",
        "]"
      ]
    },
    {
      "cell_type": "markdown",
      "id": "ee579ac4",
      "metadata": {},
      "source": [
        "* temperature: 자유도를 의미. 무작위 출력 조절(0~2)\n",
        "    - 0.5 이하를 권장, 왜냐하면 그 이상일 경우 한국어의 경우 맞춤법이 틀림\n",
        "    - 0에 가까울 수록 정해진 답변을 수행\n",
        "\n",
        "* mak-token: 출력 최대 토큰 수 조절\n",
        "    - 초과할 경우 자름\n",
        "    - "
      ]
    },
    {
      "cell_type": "code",
      "execution_count": 11,
      "id": "7949d296",
      "metadata": {},
      "outputs": [
        {
          "ename": "NameError",
          "evalue": "name 'max_completion_tokens' is not defined",
          "output_type": "error",
          "traceback": [
            "\u001b[0;31m---------------------------------------------------------------------------\u001b[0m",
            "\u001b[0;31mNameError\u001b[0m                                 Traceback (most recent call last)",
            "Cell \u001b[0;32mIn[11], line 1\u001b[0m\n\u001b[0;32m----> 1\u001b[0m \u001b[38;5;28mprint\u001b[39m(\u001b[43mmax_completion_tokens\u001b[49m)\n",
            "\u001b[0;31mNameError\u001b[0m: name 'max_completion_tokens' is not defined"
          ]
        }
      ],
      "source": [
        "print(max_completion_tokens)"
      ]
    },
    {
      "cell_type": "code",
      "execution_count": null,
      "id": "70b7a7be",
      "metadata": {},
      "outputs": [],
      "source": [
        "# 메시지 전달 및 답변 생성\n",
        "response = client.chat.completions.creacrte(\n",
        "    model = \"gpt-4o\",\n",
        "    messages = messages,\n",
        "    temperature = 0.5,\n",
        "    max_tokens = 512,\n",
        "    n =4\n",
        ")"
      ]
    }
  ],
  "metadata": {
    "colab": {
      "provenance": []
    },
    "kernelspec": {
      "display_name": "Python 3",
      "name": "python3"
    },
    "language_info": {
      "codemirror_mode": {
        "name": "ipython",
        "version": 3
      },
      "file_extension": ".py",
      "mimetype": "text/x-python",
      "name": "python",
      "nbconvert_exporter": "python",
      "pygments_lexer": "ipython3",
      "version": "3.10.12"
    }
  },
  "nbformat": 4,
  "nbformat_minor": 5
}
